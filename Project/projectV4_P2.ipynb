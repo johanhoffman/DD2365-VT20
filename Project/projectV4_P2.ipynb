{
  "nbformat": 4,
  "nbformat_minor": 0,
  "metadata": {
    "colab": {
      "name": "template-report-Navier-Stokes.ipynb",
      "provenance": [],
      "include_colab_link": true
    },
    "kernelspec": {
      "name": "python3",
      "display_name": "Python 3"
    }
  },
  "cells": [
    {
      "cell_type": "markdown",
      "metadata": {
        "id": "view-in-github",
        "colab_type": "text"
      },
      "source": [
        "<a href=\"https://colab.research.google.com/github/johanhoffman/DD2365-VT20/blob/LindeBee/Project/projectV4_P2.ipynb\" target=\"_parent\"><img src=\"https://colab.research.google.com/assets/colab-badge.svg\" alt=\"Open In Colab\"/></a>"
      ]
    },
    {
      "cell_type": "markdown",
      "metadata": {
        "id": "cyCUwzF-wRoW",
        "colab_type": "text"
      },
      "source": [
        "# **The Navier-Stokes equations**\n",
        "**Johan Hoffman**"
      ]
    },
    {
      "cell_type": "markdown",
      "metadata": {
        "id": "9x_J5FVuPzbm",
        "colab_type": "text"
      },
      "source": [
        "# **Abstract**"
      ]
    },
    {
      "cell_type": "markdown",
      "metadata": {
        "id": "6UFTSzW7P8kL",
        "colab_type": "text"
      },
      "source": [
        "This short report show an example on how to use FEniCS to solve the Navier-Stokes equations, which is used in the course DD2365 Advanced Computation in Fluid Mechanics, at the KTH Royal Institute of Technology.\n",
        "\n",
        "[DD2365 course website.](https://kth.instructure.com/courses/17071)"
      ]
    },
    {
      "cell_type": "markdown",
      "metadata": {
        "id": "OkT8J7uOWpT3",
        "colab_type": "text"
      },
      "source": [
        "# **About the code**"
      ]
    },
    {
      "cell_type": "code",
      "metadata": {
        "id": "Pdll1Xc9WP0e",
        "colab_type": "code",
        "outputId": "1c204470-e281-4e03-ed99-9f3e80a824d3",
        "colab": {
          "base_uri": "https://localhost:8080/",
          "height": 34
        }
      },
      "source": [
        "\"\"\"This program is an example file for the course\"\"\"\n",
        "\"\"\"DD2365 Advanced Computation in Fluid Mechanics, \"\"\"\n",
        "\"\"\"KTH Royal Institute of Technology, Stockholm, Sweden.\"\"\"\n",
        "\n",
        "# Copyright (C) 2020 Johan Hoffman (jhoffman@kth.se)\n",
        "\n",
        "# This file is part of the course DD2365 Advanced Computation in Fluid Mechanics\n",
        "# KTH Royal Institute of Technology, Stockholm, Sweden\n",
        "#\n",
        "# This is free software: you can redistribute it and/or modify\n",
        "# it under the terms of the GNU Lesser General Public License as published by\n",
        "# the Free Software Foundation, either version 3 of the License, or\n",
        "# (at your option) any later version.\n",
        "\n",
        "# This template is maintained by Johan Hoffman\n",
        "# Please report problems to jhoffman@kth.se"
      ],
      "execution_count": 1,
      "outputs": [
        {
          "output_type": "execute_result",
          "data": {
            "text/plain": [
              "'KTH Royal Institute of Technology, Stockholm, Sweden.'"
            ]
          },
          "metadata": {
            "tags": []
          },
          "execution_count": 1
        }
      ]
    },
    {
      "cell_type": "markdown",
      "metadata": {
        "id": "28xLGz8JX3Hh",
        "colab_type": "text"
      },
      "source": [
        "# **Set up environment**"
      ]
    },
    {
      "cell_type": "code",
      "metadata": {
        "id": "Xw7VlErAX7NS",
        "colab_type": "code",
        "colab": {}
      },
      "source": [
        "# Load neccessary modules.\n",
        "from google.colab import files\n",
        "\n",
        "import numpy as np\n",
        "import time\n",
        "\n",
        "try:\n",
        "    from dolfin import *; from mshr import *\n",
        "except ImportError as e:\n",
        "    !apt-get install -y -qq software-properties-common \n",
        "    !add-apt-repository -y ppa:fenics-packages/fenics\n",
        "    !apt-get update -qq\n",
        "    !apt install -y --no-install-recommends fenics\n",
        "    from dolfin import *; from mshr import *\n",
        "    \n",
        "import dolfin.common.plotting as fenicsplot\n",
        "import math\n",
        "\n",
        "from matplotlib import pyplot as plt"
      ],
      "execution_count": 0,
      "outputs": []
    },
    {
      "cell_type": "markdown",
      "metadata": {
        "id": "gnO3lhAigLev",
        "colab_type": "text"
      },
      "source": [
        "# **Introduction**"
      ]
    },
    {
      "cell_type": "markdown",
      "metadata": {
        "id": "l5zMzgPlRAF6",
        "colab_type": "text"
      },
      "source": [
        "The Navier-Stokes equations take the form\n",
        "\n",
        "$\\dot u + (u\\cdot \\nabla)u + \\nabla p -\\Delta u = f,\\quad \\nabla \\cdot u=0,$\n",
        "\n",
        "together with suitable initial and boundary conditions.\n",
        "\n",
        "Here we present a FEniCS implementation of a stabilized space-time finite element method to solve the Navier-Stokes equations in 2D. The solution is visualized using FEniCS plotting functions, and is also exported as pvd-files which can be visualized in Paraview.\n",
        "\n",
        "We seek a finite element approximation $(u,p)\\in V\\times Q$ such that \n",
        "\n",
        "$(\\dot u + (u\\cdot \\nabla)u, v) - (p,\\nabla \\cdot v) + (\\nu \\nabla u,\\nabla v) + (\\nabla \\cdot u, q) + SD(u,p;v,q) = (f,v),$\n",
        "\n",
        "for all test functions $(v,q) \\in \\hat V\\times \\hat Q$, where $SD(u,p;v,q)$ is a residual based stabilization term.\n",
        "\n",
        "We present an example of flow past a circular cylinder, for which we compute the force on the surface of the cylinder $\\Gamma$ in the direction $\\phi$, by Green's formula: \n",
        "\n",
        "$\n",
        "F(u,p,\\phi)= ~<\\nu \\nabla u\\cdot n-pn, \\Phi>_{\\Gamma} ~=~(\\dot u+(u\\cdot \\nabla)u, \\Phi) + (\\nu \\nabla u,\\nabla \\Phi) - (p,\\nabla \\cdot\\Phi)-(f,\\Phi),\n",
        "$\n",
        "\n",
        "with $\\Phi\\in V$ a fuinction for which $\\Phi\\vert _{\\Gamma}=\\phi$ and $\\Phi\\vert_{\\partial \\Omega \\setminus \\Gamma}=0$. With $\\phi=(1,0)$ we get the drag force $F_D$, and with $\\phi=(0,1)$ the lift force $F_L$. The drag and lift coefficients are obtained by normalization, \n",
        "\n",
        "$\n",
        "c_D = \\frac{2F_D}{\\rho U^2D}, \\quad c_L = \\frac{2F_L}{\\rho U^2D}\n",
        "$\n",
        "\n",
        "where $\\rho$ is the density (here $\\rho=1$), $U$ the characteristic velocity (here $U=1$), and $D$ the characteristic length scale (here $D$ is the diameter of the cylinder). \n",
        "\n",
        "The Reynolds number is defined as $Re=\\frac{UD}{\\nu}$\n",
        "\n",
        "To read more about how to use similar methods for more complex problems, see e.g. \n",
        "\n",
        "[Hoffman, Johan, et al. \"Towards a parameter-free method for high reynolds number turbulent flow simulation based on adaptive finite element approximation.\" Computer Methods in Applied Mechanics and Engineering 288 (2015): 60-74.](https://www.sciencedirect.com/science/article/pii/S0045782514004836)\n"
      ]
    },
    {
      "cell_type": "markdown",
      "metadata": {
        "id": "jOQvukXZq5U5",
        "colab_type": "text"
      },
      "source": [
        "# **Method**"
      ]
    },
    {
      "cell_type": "markdown",
      "metadata": {
        "id": "_PADPNYpA9SB",
        "colab_type": "text"
      },
      "source": [
        "**Define 3 different domains**\n",
        "\n",
        "*   4 by 4 perpendicular grid\n",
        "*   diamond grid\n",
        "*   Concentric circular grid"
      ]
    },
    {
      "cell_type": "code",
      "metadata": {
        "id": "_KBWOVATuBQz",
        "colab_type": "code",
        "outputId": "f146ae8e-fd36-43ee-9684-b80aeeedc3bb",
        "colab": {
          "base_uri": "https://localhost:8080/",
          "height": 299
        }
      },
      "source": [
        "!rm results/*\n",
        "\n",
        "# Define rectangular domain \n",
        "L = 14\n",
        "H = 14\n",
        "\n",
        "# Generate mesh (examples with and without a hole in the mesh) \n",
        "resolution = 64\n",
        "mesh = RectangleMesh(Point(0.0, 0.0), Point(L, H), L*resolution, H*resolution)\n",
        "mesh_file = File('mesh.xml')\n",
        "mesh_file >> mesh\n",
        "\n",
        "# Local mesh refinement (specified by a cell marker)\n",
        "no_levels = 0\n",
        "for i in range(0,no_levels):\n",
        "  cell_marker = MeshFunction(\"bool\", mesh, mesh.topology().dim())\n",
        "  for cell in cells(mesh):\n",
        "    cell_marker[cell] = False\n",
        "    p = cell.midpoint()\n",
        "    if p.distance(Point(xc, yc)) < 0.5:\n",
        "        cell_marker[cell] = True\n",
        "  mesh = refine(mesh, cell_marker)\n",
        "\n",
        "class SourceGrid(SubDomain):\n",
        "    def inside(self, x, on_boundary):\n",
        "        return (x[0]<6 and x[0]>6 and x[1]<6 and x[1]>6)\n",
        "\n",
        "class SourceCircle(SubDomain):\n",
        "    def inside(self, x, on_boundary):\n",
        "        return (sqrt(x[0]*x[0]+x[1]*x[1])< 5.5)\n",
        " \n",
        "# source = SourceGrid()\n",
        "source = SourceCircle()\n",
        "\n",
        "domains = MeshFunction(\"size_t\", mesh, mesh.topology().dim())\n",
        "domains.set_all(0)\n",
        "source.mark(domains, 1)\n",
        "cells = domains.array()\n",
        "n_cells = np.count_nonzero(cells == 1)\n",
        "print(n_cells)\n",
        "\n",
        "# for visualisation of different domains\n",
        "file = File(\"results/mesh.pvd\")\n",
        "file << domains\n",
        "\n",
        "plt.figure()\n",
        "plot(mesh)\n",
        "plt.show()"
      ],
      "execution_count": 9,
      "outputs": [
        {
          "output_type": "stream",
          "text": [
            "rm: cannot remove 'results/*': No such file or directory\n",
            "3663\n"
          ],
          "name": "stdout"
        },
        {
          "output_type": "display_data",
          "data": {
            "image/png": "[encoded data removed]",
            "text/plain": [
              "<Figure size 432x288 with 1 Axes>"
            ]
          },
          "metadata": {
            "tags": [],
            "needs_background": "light"
          }
        }
      ]
    },
    {
      "cell_type": "markdown",
      "metadata": {
        "id": "-le1iA8u3fS-",
        "colab_type": "text"
      },
      "source": [
        "**Define finite element approximation spaces**"
      ]
    },
    {
      "cell_type": "code",
      "metadata": {
        "id": "uWeyBcYXuaPq",
        "colab_type": "code",
        "colab": {
          "base_uri": "https://localhost:8080/",
          "height": 51
        },
        "outputId": "d156b6a0-5418-4803-c2b3-eb17fc876c34"
      },
      "source": [
        "# Generate finite element spaces (for velocity and pressure)\n",
        "V = VectorFunctionSpace(mesh, \"Lagrange\", 1)\n",
        "Q = FunctionSpace(mesh, \"Lagrange\", 1)\n",
        "\n",
        "# Define trial and test functions \n",
        "u = TrialFunction(V)\n",
        "p = TrialFunction(Q)\n",
        "v = TestFunction(V)\n",
        "q = TestFunction(Q)"
      ],
      "execution_count": 10,
      "outputs": [
        {
          "output_type": "stream",
          "text": [
            "Calling FFC just-in-time (JIT) compiler, this may take some time.\n",
            "Calling FFC just-in-time (JIT) compiler, this may take some time.\n"
          ],
          "name": "stdout"
        }
      ]
    },
    {
      "cell_type": "markdown",
      "metadata": {
        "id": "OKzE7v-B3o9R",
        "colab_type": "text"
      },
      "source": [
        "**Define boundary conditions**"
      ]
    },
    {
      "cell_type": "code",
      "metadata": {
        "id": "Alul5VPRfaI3",
        "colab_type": "code",
        "colab": {}
      },
      "source": [
        "# # inflow and outflow conditions\n",
        "XMIN = -7; XMAX = 7\n",
        "YMIN = -7; YMAX = 7\n",
        "\n",
        "# # define uin of size 1 for different angles: 0, pi/6, pi/3, pi/2\n",
        "# # angle = 0\n",
        "# # uin_x = cos(angle)\n",
        "# # uin_y = sin(angle)\n",
        "# # uin = Expression((\"uin_x\", \"uin_y\"), uin_x=uin_x, uin_y=uin_y, element = V.ufl_element()) \n",
        "# # pin = Expression('5.0*fabs(sin(t))', element = Q.ufl_element(), t=0.0)\n",
        "# # pout = 0.0\n",
        "\n",
        "# # Inflow boundary (ib), outflow boundary (ob) and wall boundary (wb)\n",
        "ib = Expression(\"near(x[0],XMIN) ? 1. : 0.\", XMIN=XMIN, YMIN=YMIN, element = Q.ufl_element())\n",
        "# ob = Expression(\"near(x[0],XMAX) || near(x[1], YMAX) ? 1. : 0.\", XMAX=XMAX, YMAX=YMAX, element = Q.ufl_element()) \n",
        "# wb = Expression(\"x[0] > XMIN + DOLFIN_EPS && x[0] < XMAX - DOLFIN_EPS && x[1] > YMIN + DOLFIN_EPS && x[1] < YMAX - DOLFIN_EPS? 1. : 0.\", XMIN=XMIN, XMAX=XMAX, YMIN=YMIN,YMAX=YMAX, element = Q.ufl_element())"
      ],
      "execution_count": 0,
      "outputs": []
    },
    {
      "cell_type": "markdown",
      "metadata": {
        "id": "SsQLT38gVbn_",
        "colab_type": "text"
      },
      "source": [
        "# **Results**"
      ]
    },
    {
      "cell_type": "markdown",
      "metadata": {
        "id": "lA2Lsqa84Yld",
        "colab_type": "text"
      },
      "source": [
        "**Define flow parameters**"
      ]
    },
    {
      "cell_type": "markdown",
      "metadata": {
        "id": "qI4ZYb5E4w5p",
        "colab_type": "text"
      },
      "source": [
        "**Define method parameters**"
      ]
    },
    {
      "cell_type": "markdown",
      "metadata": {
        "id": "y0EnzPyU46PX",
        "colab_type": "text"
      },
      "source": [
        "**Define variational problem**"
      ]
    },
    {
      "cell_type": "markdown",
      "metadata": {
        "id": "vFN4F231ZXKc",
        "colab_type": "text"
      },
      "source": [
        "**Compute force on boundary**"
      ]
    },
    {
      "cell_type": "markdown",
      "metadata": {
        "id": "nl9EBgZU6tMZ",
        "colab_type": "text"
      },
      "source": [
        "**Set plotting variables and open export files**"
      ]
    },
    {
      "cell_type": "markdown",
      "metadata": {
        "id": "F_PajAPw6xdn",
        "colab_type": "text"
      },
      "source": [
        "**Time stepping algorithm**"
      ]
    },
    {
      "cell_type": "code",
      "metadata": {
        "id": "JUfvsjZPvBc0",
        "colab_type": "code",
        "outputId": "d5b96c1e-fa35-4219-af39-3e6e4b8dc2a0",
        "colab": {
          "base_uri": "https://localhost:8080/",
          "height": 673
        }
      },
      "source": [
        "# Define function space for system of concentrations\n",
        "u = Constant((0.0,0.0))#Function(V)\n",
        "element = FiniteElement(\"P\", triangle, 1)\n",
        "Vc = FunctionSpace(mesh, element)\n",
        "\n",
        "vc = TestFunction(Vc) #test function\n",
        "cin = 1.0/n_cells\n",
        "fc = Expression( \"sqrt(x[0]*x[0]+x[1]*x[1])< 5.5 ? cin : 0\", cin=cin , element = Vc.ufl_element()) #source\n",
        "dt = 0.5*mesh.hmin()  #time step\n",
        "c = Function(Vc)       #concentration\n",
        "c_n = Function(Vc)     #concentration previous timestep\n",
        "d = mesh.hmin()\n",
        "dx=Measure('dx', domain=mesh, subdomain_data=domains)\n",
        "\n",
        "h = CellDiameter(mesh)\n",
        "C = 1.0e3\n",
        "gamma = C/h\n",
        "\n",
        "\n",
        "#variational problem:\n",
        "Fc = inner((c-c_n)/dt,vc)*dx + inner(dot(u,grad(c)),vc)*dx \\\n",
        "+ gamma*ib*inner(c,vc)*dx + d*dot(u,grad(c))*dot(u,grad(vc))*dx - fc*vc*dx\n",
        "\n",
        "#time stepping\n",
        "file_c = File(\"results/c.pvd\")\n",
        "file_u = File(\"results/u.pvd\")\n",
        "# timeseries_u = TimeSeries('velocity_series')\n",
        "\n",
        "t=0\n",
        "T=30\n",
        "freq = 24\n",
        "pl = 0\n",
        "num_steps = int(5/dt)\n",
        "while t < T + DOLFIN_EPS:\n",
        "    # print(n+\"\\n\")\n",
        "    # Update current time\n",
        "    t += dt\n",
        "    # timeseries_u.retrieve(u.vector(), t%3)\n",
        "    # Solve variational problem for time step\n",
        "    solve(Fc == 0, c)\n",
        "    # Update previous solution\n",
        "    c_n.assign(c)\n",
        "\n",
        "    if t > pl: \n",
        "      pl += T/freq\n",
        "      c1 = project(c, Vc)\n",
        "      plt.figure()\n",
        "      plot(c1, title=\"Concentration\")\n",
        "      plt.show()\n",
        "      # Save solution to file (VTK)\n",
        "      # file_c << (c, t)\n",
        "      # file_u << (u, t)\n",
        "      print(t)\n",
        "      print(assemble(c*dx(1)))\n",
        "\n",
        "# Plot solution\n",
        "c1 = project(c, Vc)\n",
        "plt.figure()\n",
        "plot(c1, title=\"Concentration\")\n",
        "plt.show()\n",
        "\n",
        "# !tar -czvf results.tar.gz results\n",
        "# files.download('results.tar.gz')\n"
      ],
      "execution_count": 22,
      "outputs": [
        {
          "output_type": "display_data",
          "data": {
            "image/png": "[encoded data removed]",
            "text/plain": [
              "<Figure size 432x288 with 1 Axes>"
            ]
          },
          "metadata": {
            "tags": [],
            "needs_background": "light"
          }
        },
        {
          "output_type": "stream",
          "text": [
            "0.012208104988022496\n",
            "0.00018681988136844756\n"
          ],
          "name": "stdout"
        },
        {
          "output_type": "error",
          "ename": "KeyboardInterrupt",
          "evalue": "ignored",
          "traceback": [
            "\u001b[0;31m---------------------------------------------------------------------------\u001b[0m",
            "\u001b[0;31mKeyboardInterrupt\u001b[0m                         Traceback (most recent call last)",
            "\u001b[0;32m<ipython-input-22-db0e2df88200>\u001b[0m in \u001b[0;36m<module>\u001b[0;34m()\u001b[0m\n\u001b[1;32m     37\u001b[0m     \u001b[0;31m# timeseries_u.retrieve(u.vector(), t%3)\u001b[0m\u001b[0;34m\u001b[0m\u001b[0;34m\u001b[0m\u001b[0;34m\u001b[0m\u001b[0m\n\u001b[1;32m     38\u001b[0m     \u001b[0;31m# Solve variational problem for time step\u001b[0m\u001b[0;34m\u001b[0m\u001b[0;34m\u001b[0m\u001b[0;34m\u001b[0m\u001b[0m\n\u001b[0;32m---> 39\u001b[0;31m     \u001b[0msolve\u001b[0m\u001b[0;34m(\u001b[0m\u001b[0mFc\u001b[0m \u001b[0;34m==\u001b[0m \u001b[0;36m0\u001b[0m\u001b[0;34m,\u001b[0m \u001b[0mc\u001b[0m\u001b[0;34m)\u001b[0m\u001b[0;34m\u001b[0m\u001b[0;34m\u001b[0m\u001b[0m\n\u001b[0m\u001b[1;32m     40\u001b[0m     \u001b[0;31m# Update previous solution\u001b[0m\u001b[0;34m\u001b[0m\u001b[0;34m\u001b[0m\u001b[0;34m\u001b[0m\u001b[0m\n\u001b[1;32m     41\u001b[0m     \u001b[0mc_n\u001b[0m\u001b[0;34m.\u001b[0m\u001b[0massign\u001b[0m\u001b[0;34m(\u001b[0m\u001b[0mc\u001b[0m\u001b[0;34m)\u001b[0m\u001b[0;34m\u001b[0m\u001b[0;34m\u001b[0m\u001b[0m\n",
            "\u001b[0;32m/usr/lib/python3/dist-packages/dolfin/fem/solving.py\u001b[0m in \u001b[0;36msolve\u001b[0;34m(*args, **kwargs)\u001b[0m\n\u001b[1;32m    218\u001b[0m     \u001b[0;31m# tolerance)\u001b[0m\u001b[0;34m\u001b[0m\u001b[0;34m\u001b[0m\u001b[0;34m\u001b[0m\u001b[0m\n\u001b[1;32m    219\u001b[0m     \u001b[0;32melif\u001b[0m \u001b[0misinstance\u001b[0m\u001b[0;34m(\u001b[0m\u001b[0margs\u001b[0m\u001b[0;34m[\u001b[0m\u001b[0;36m0\u001b[0m\u001b[0;34m]\u001b[0m\u001b[0;34m,\u001b[0m \u001b[0mufl\u001b[0m\u001b[0;34m.\u001b[0m\u001b[0mclasses\u001b[0m\u001b[0;34m.\u001b[0m\u001b[0mEquation\u001b[0m\u001b[0;34m)\u001b[0m\u001b[0;34m:\u001b[0m\u001b[0;34m\u001b[0m\u001b[0;34m\u001b[0m\u001b[0m\n\u001b[0;32m--> 220\u001b[0;31m         \u001b[0m_solve_varproblem\u001b[0m\u001b[0;34m(\u001b[0m\u001b[0;34m*\u001b[0m\u001b[0margs\u001b[0m\u001b[0;34m,\u001b[0m \u001b[0;34m**\u001b[0m\u001b[0mkwargs\u001b[0m\u001b[0;34m)\u001b[0m\u001b[0;34m\u001b[0m\u001b[0;34m\u001b[0m\u001b[0m\n\u001b[0m\u001b[1;32m    221\u001b[0m \u001b[0;34m\u001b[0m\u001b[0m\n\u001b[1;32m    222\u001b[0m     \u001b[0;31m# Default case, just call the wrapped C++ solve function\u001b[0m\u001b[0;34m\u001b[0m\u001b[0;34m\u001b[0m\u001b[0;34m\u001b[0m\u001b[0m\n",
            "\u001b[0;32m/usr/lib/python3/dist-packages/dolfin/fem/solving.py\u001b[0m in \u001b[0;36m_solve_varproblem\u001b[0;34m(*args, **kwargs)\u001b[0m\n\u001b[1;32m    264\u001b[0m         \u001b[0msolver\u001b[0m \u001b[0;34m=\u001b[0m \u001b[0mNonlinearVariationalSolver\u001b[0m\u001b[0;34m(\u001b[0m\u001b[0mproblem\u001b[0m\u001b[0;34m)\u001b[0m\u001b[0;34m\u001b[0m\u001b[0;34m\u001b[0m\u001b[0m\n\u001b[1;32m    265\u001b[0m         \u001b[0msolver\u001b[0m\u001b[0;34m.\u001b[0m\u001b[0mparameters\u001b[0m\u001b[0;34m.\u001b[0m\u001b[0mupdate\u001b[0m\u001b[0;34m(\u001b[0m\u001b[0msolver_parameters\u001b[0m\u001b[0;34m)\u001b[0m\u001b[0;34m\u001b[0m\u001b[0;34m\u001b[0m\u001b[0m\n\u001b[0;32m--> 266\u001b[0;31m         \u001b[0msolver\u001b[0m\u001b[0;34m.\u001b[0m\u001b[0msolve\u001b[0m\u001b[0;34m(\u001b[0m\u001b[0;34m)\u001b[0m\u001b[0;34m\u001b[0m\u001b[0;34m\u001b[0m\u001b[0m\n\u001b[0m\u001b[1;32m    267\u001b[0m \u001b[0;34m\u001b[0m\u001b[0m\n\u001b[1;32m    268\u001b[0m \u001b[0;34m\u001b[0m\u001b[0m\n",
            "\u001b[0;31mKeyboardInterrupt\u001b[0m: "
          ]
        }
      ]
    },
    {
      "cell_type": "code",
      "metadata": {
        "id": "DdoRNE9R4t3b",
        "colab_type": "code",
        "colab": {}
      },
      "source": [
        "# # Save solution\n",
        "# u_sol = project(u_mean,V)\n",
        "# output_file = HDF5File(mesh.mpi_comm(), \"u_c_0.h5\", \"w\")\n",
        "# output_file.write(u_sol, \"solution\")\n",
        "# output_file.close()\n",
        "\n",
        "# Load solution\n",
        "# U = Function(V)\n",
        "# input_file = HDF5File(mesh.mpi_comm(), \"u.h5\", \"r\")\n",
        "# input_file.read(U, \"solution\")\n",
        "# input_file.close()"
      ],
      "execution_count": 0,
      "outputs": []
    },
    {
      "cell_type": "markdown",
      "metadata": {
        "id": "_4GLBv0zWr7m",
        "colab_type": "text"
      },
      "source": [
        "# **Discussion**"
      ]
    },
    {
      "cell_type": "markdown",
      "metadata": {
        "id": "6bcsDSoRXHZe",
        "colab_type": "text"
      },
      "source": [
        "A stabilized finite element method was implemented in FEniCS to solve the Navier-Stokes equations in 2D. The method was tested for the model problem of flow past a circular obstacle, and for a high enough Reynolds number and sufficient mesh resolution [a von Karman vortex street developed as expected.](https://en.wikipedia.org/wiki/Kármán_vortex_street)"
      ]
    }
  ]
}