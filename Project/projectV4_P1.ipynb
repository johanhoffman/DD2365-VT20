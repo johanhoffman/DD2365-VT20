{
  "nbformat": 4,
  "nbformat_minor": 0,
  "metadata": {
    "colab": {
      "name": "template-report-Navier-Stokes.ipynb",
      "provenance": [],
      "toc_visible": true,
      "include_colab_link": true
    },
    "kernelspec": {
      "name": "python3",
      "display_name": "Python 3"
    }
  },
  "cells": [
    {
      "cell_type": "markdown",
      "metadata": {
        "id": "view-in-github",
        "colab_type": "text"
      },
      "source": [
        "<a href=\"https://colab.research.google.com/github/johanhoffman/DD2365-VT20/blob/LindeBee/Project/projectV4_P1.ipynb\" target=\"_parent\"><img src=\"https://colab.research.google.com/assets/colab-badge.svg\" alt=\"Open In Colab\"/></a>"
      ]
    },
    {
      "cell_type": "markdown",
      "metadata": {
        "id": "cyCUwzF-wRoW",
        "colab_type": "text"
      },
      "source": [
        "# **Project part 1: velocity field**\n",
        "**Johan Hoffman**"
      ]
    },
    {
      "cell_type": "markdown",
      "metadata": {
        "id": "9x_J5FVuPzbm",
        "colab_type": "text"
      },
      "source": [
        "# **Abstract**"
      ]
    },
    {
      "cell_type": "markdown",
      "metadata": {
        "id": "6UFTSzW7P8kL",
        "colab_type": "text"
      },
      "source": [
        "This short report show an example on how to use FEniCS to solve the Navier-Stokes equations, which is used in the course DD2365 Advanced Computation in Fluid Mechanics, at the KTH Royal Institute of Technology.\n",
        "\n",
        "[DD2365 course website.](https://kth.instructure.com/courses/17071)"
      ]
    },
    {
      "cell_type": "markdown",
      "metadata": {
        "id": "OkT8J7uOWpT3",
        "colab_type": "text"
      },
      "source": [
        "# **About the code**"
      ]
    },
    {
      "cell_type": "code",
      "metadata": {
        "id": "Pdll1Xc9WP0e",
        "colab_type": "code",
        "outputId": "7e518416-5cf2-44c5-cf07-e54fc876b4a9",
        "colab": {
          "base_uri": "https://localhost:8080/",
          "height": 34
        }
      },
      "source": [
        "\"\"\"This program is an example file for the course\"\"\"\n",
        "\"\"\"DD2365 Advanced Computation in Fluid Mechanics, \"\"\"\n",
        "\"\"\"KTH Royal Institute of Technology, Stockholm, Sweden.\"\"\"\n",
        "\n",
        "# Copyright (C) 2020 Johan Hoffman (jhoffman@kth.se)\n",
        "\n",
        "# This file is part of the course DD2365 Advanced Computation in Fluid Mechanics\n",
        "# KTH Royal Institute of Technology, Stockholm, Sweden\n",
        "#\n",
        "# This is free software: you can redistribute it and/or modify\n",
        "# it under the terms of the GNU Lesser General Public License as published by\n",
        "# the Free Software Foundation, either version 3 of the License, or\n",
        "# (at your option) any later version.\n",
        "\n",
        "# This template is maintained by Johan Hoffman\n",
        "# Please report problems to jhoffman@kth.se"
      ],
      "execution_count": 2,
      "outputs": [
        {
          "output_type": "execute_result",
          "data": {
            "text/plain": [
              "'KTH Royal Institute of Technology, Stockholm, Sweden.'"
            ]
          },
          "metadata": {
            "tags": []
          },
          "execution_count": 2
        }
      ]
    },
    {
      "cell_type": "markdown",
      "metadata": {
        "id": "28xLGz8JX3Hh",
        "colab_type": "text"
      },
      "source": [
        "# **Set up environment**"
      ]
    },
    {
      "cell_type": "code",
      "metadata": {
        "id": "Xw7VlErAX7NS",
        "colab_type": "code",
        "colab": {}
      },
      "source": [
        "# Load neccessary modules.\n",
        "from google.colab import files\n",
        "\n",
        "import numpy as np\n",
        "import time\n",
        "\n",
        "try:\n",
        "    from dolfin import *; from mshr import *\n",
        "except ImportError as e:\n",
        "    !apt-get install -y -qq software-properties-common \n",
        "    !add-apt-repository -y ppa:fenics-packages/fenics\n",
        "    !apt-get update -qq\n",
        "    !apt install -y --no-install-recommends fenics\n",
        "    from dolfin import *; from mshr import *\n",
        "    \n",
        "import dolfin.common.plotting as fenicsplot\n",
        "import math\n",
        "\n",
        "from matplotlib import pyplot as plt"
      ],
      "execution_count": 0,
      "outputs": []
    },
    {
      "cell_type": "markdown",
      "metadata": {
        "id": "gnO3lhAigLev",
        "colab_type": "text"
      },
      "source": [
        "# **Introduction**"
      ]
    },
    {
      "cell_type": "markdown",
      "metadata": {
        "id": "l5zMzgPlRAF6",
        "colab_type": "text"
      },
      "source": [
        "The Navier-Stokes equations take the form\n",
        "\n",
        "$\\dot u + (u\\cdot \\nabla)u + \\nabla p -\\Delta u = f,\\quad \\nabla \\cdot u=0,$\n",
        "\n",
        "together with suitable initial and boundary conditions.\n",
        "\n",
        "Here we present a FEniCS implementation of a stabilized space-time finite element method to solve the Navier-Stokes equations in 2D. The solution is visualized using FEniCS plotting functions, and is also exported as pvd-files which can be visualized in Paraview.\n",
        "\n",
        "We seek a finite element approximation $(u,p)\\in V\\times Q$ such that \n",
        "\n",
        "$(\\dot u + (u\\cdot \\nabla)u, v) - (p,\\nabla \\cdot v) + (\\nu \\nabla u,\\nabla v) + (\\nabla \\cdot u, q) + SD(u,p;v,q) = (f,v),$\n",
        "\n",
        "for all test functions $(v,q) \\in \\hat V\\times \\hat Q$, where $SD(u,p;v,q)$ is a residual based stabilization term.\n",
        "\n",
        "We present an example of flow past a circular cylinder, for which we compute the force on the surface of the cylinder $\\Gamma$ in the direction $\\phi$, by Green's formula: \n",
        "\n",
        "$\n",
        "F(u,p,\\phi)= ~<\\nu \\nabla u\\cdot n-pn, \\Phi>_{\\Gamma} ~=~(\\dot u+(u\\cdot \\nabla)u, \\Phi) + (\\nu \\nabla u,\\nabla \\Phi) - (p,\\nabla \\cdot\\Phi)-(f,\\Phi),\n",
        "$\n",
        "\n",
        "with $\\Phi\\in V$ a fuinction for which $\\Phi\\vert _{\\Gamma}=\\phi$ and $\\Phi\\vert_{\\partial \\Omega \\setminus \\Gamma}=0$. With $\\phi=(1,0)$ we get the drag force $F_D$, and with $\\phi=(0,1)$ the lift force $F_L$. The drag and lift coefficients are obtained by normalization, \n",
        "\n",
        "$\n",
        "c_D = \\frac{2F_D}{\\rho U^2D}, \\quad c_L = \\frac{2F_L}{\\rho U^2D}\n",
        "$\n",
        "\n",
        "where $\\rho$ is the density (here $\\rho=1$), $U$ the characteristic velocity (here $U=1$), and $D$ the characteristic length scale (here $D$ is the diameter of the cylinder). \n",
        "\n",
        "The Reynolds number is defined as $Re=\\frac{UD}{\\nu}$\n",
        "\n",
        "To read more about how to use similar methods for more complex problems, see e.g. \n",
        "\n",
        "[Hoffman, Johan, et al. \"Towards a parameter-free method for high reynolds number turbulent flow simulation based on adaptive finite element approximation.\" Computer Methods in Applied Mechanics and Engineering 288 (2015): 60-74.](https://www.sciencedirect.com/science/article/pii/S0045782514004836)\n"
      ]
    },
    {
      "cell_type": "markdown",
      "metadata": {
        "id": "jOQvukXZq5U5",
        "colab_type": "text"
      },
      "source": [
        "# **Method**"
      ]
    },
    {
      "cell_type": "markdown",
      "metadata": {
        "id": "_PADPNYpA9SB",
        "colab_type": "text"
      },
      "source": [
        "**Define 3 different domains**\n",
        "\n",
        "*   4 by 4 perpendicular grid\n",
        "*   diamond grid\n",
        "*   Concentric circular grid"
      ]
    },
    {
      "cell_type": "code",
      "metadata": {
        "id": "sAN6e2_TAGB3",
        "colab_type": "code",
        "colab": {}
      },
      "source": [
        "def grid(L,H,theta=0):\n",
        "  theta = math.radians(theta)\n",
        "  domain = Rectangle(Point(-L/2,-H/2), Point(L/2,H/2))\n",
        "  for i in range (0,4):\n",
        "    a = -4.43+i*2.415\n",
        "    b = a+1.615\n",
        "    for j in range(0,4):\n",
        "      c = -4.43+j*2.415\n",
        "      d = c+1.615\n",
        "      domain -= Polygon([Point(a*cos(theta)-c*sin(theta),a*sin(theta)+c*cos(theta)), \\\n",
        "                         Point(b*cos(theta)-c*sin(theta),b*sin(theta)+c*cos(theta)), \\\n",
        "                         Point(b*cos(theta)-d*sin(theta),b*sin(theta)+d*cos(theta)), \\\n",
        "                         Point(a*cos(theta)-d*sin(theta),a*sin(theta)+d*cos(theta))])\n",
        "  return domain\n",
        "\n",
        "def skewed(L,H,theta=0):\n",
        "  theta = math.radians(theta)\n",
        "  domain = Rectangle(Point(-L/2,-H/2), Point(L/2,H/2))\n",
        "  alpha = math.radians(35)\n",
        "  str_w = 0.6\n",
        "  shape_w = 1.2\n",
        "  shape_h = shape_w*tan(alpha)\n",
        "  dhor= str_w/(cos(alpha)*sin(alpha))\n",
        "  dver = str_w/(2*cos(alpha))\n",
        "  print(shape_h)\n",
        "  for i in range (0,7):\n",
        "    a = -3.5\n",
        "    b = -4.43+i*(shape_h+dver)\n",
        "    if (i%2 == 0):\n",
        "        num_shapes = 3\n",
        "    else:\n",
        "        num_shapes = 2\n",
        "        a += (shape_w+dhor/2)\n",
        "    for j in range(0,num_shapes):\n",
        "      c = a+shape_w\n",
        "      d = b+shape_h\n",
        "      e = b+2*shape_h\n",
        "      f = a-shape_w\n",
        "      domain -= Polygon([Point(a*cos(theta)-b*sin(theta),a*sin(theta)+b*cos(theta)), \\\n",
        "                         Point(c*cos(theta)-d*sin(theta),c*sin(theta)+d*cos(theta)), \\\n",
        "                         Point(a*cos(theta)-e*sin(theta),a*sin(theta)+e*cos(theta)), \\\n",
        "                         Point(f*cos(theta)-d*sin(theta),f*sin(theta)+d*cos(theta))])\n",
        "      a += 2*shape_w + dhor\n",
        "  return domain\n",
        "\n",
        "def concentric(L,H, theta=0):\n",
        "  theta = math.radians(theta)\n",
        "  domain = Rectangle(Point(-L/2,-H/2), Point(L/2,H/2))\n",
        "  for i in range (0,12):\n",
        "    alpha = i*2*pi/12+theta\n",
        "    beta = (i+1)*2*pi/12+theta\n",
        "    domain -= Polygon([Point(5*cos(alpha), 5*sin(alpha)), \\\n",
        "                       Point(5*cos(beta), 5*sin(beta)), \\\n",
        "                       Point(3*cos(beta), 3*sin(beta)), \\\n",
        "                       Point(3*cos(alpha), 3*sin(alpha))])\n",
        "  for i in range (0,12):\n",
        "    alpha = i*2*pi/12+theta\n",
        "    dx = cos(alpha-pi/2) * 0.4\n",
        "    dy = sin(alpha-pi/2) * 0.4\n",
        "    domain += Polygon([Point(6*cos(alpha)+dx,6*sin(alpha)+dy), \\\n",
        "                       Point(6*cos(alpha)-dx,6*sin(alpha)-dy), \\\n",
        "                       Point(-dx,-dy),Point(dx,dy)])\n",
        "  domain -= Circle(Point(0,0), 2.0)\n",
        "  for i in range (0,4):\n",
        "    alpha = i*2*pi/4+theta\n",
        "    dx = cos(alpha-pi/2) * 0.4\n",
        "    dy = sin(alpha-pi/2) * 0.4\n",
        "    domain += Polygon([Point(2.6*cos(alpha)+dx,2.6*sin(alpha)+dy), \\\n",
        "                       Point(2.6*cos(alpha)-dx,2.6*sin(alpha)-dy), \\\n",
        "                       Point(-dx,-dy),Point(dx,dy)])\n",
        "  return domain"
      ],
      "execution_count": 0,
      "outputs": []
    },
    {
      "cell_type": "markdown",
      "metadata": {
        "id": "wu2fugJ32t8m",
        "colab_type": "text"
      },
      "source": [
        "**Define domain and mesh**"
      ]
    },
    {
      "cell_type": "code",
      "metadata": {
        "id": "_KBWOVATuBQz",
        "colab_type": "code",
        "colab": {}
      },
      "source": [
        "# Define rectangular domain \n",
        "L = 14\n",
        "H = 14\n",
        "\n",
        "# Define circle\n",
        "xc = 0.5*L\n",
        "yc = 0.5*H\n",
        "rc = 1.\n",
        "\n",
        "# Define subdomains (for boundary conditions)\n",
        "class Left(SubDomain):\n",
        "    def inside(self, x, on_boundary):\n",
        "        return near(x[0], -L/2) \n",
        "\n",
        "class Right(SubDomain):\n",
        "    def inside(self, x, on_boundary):\n",
        "        return near(x[0], L/2)\n",
        "\n",
        "class Lower(SubDomain):\n",
        "    def inside(self, x, on_boundary):\n",
        "        return near(x[1], -H/2)\n",
        "\n",
        "class Upper(SubDomain):\n",
        "    def inside(self, x, on_boundary):\n",
        "        return near(x[1], H/2)\n",
        "\n",
        "class Freeslip(SubDomain):\n",
        "    def inside(self, x, on_boundary):\n",
        "        return (on_boundary and (not near(x[0], -L/2)) and (not near(x[0], L/2)) \\\n",
        "                and (not near(x[1], -H/2)) and (not near(x[1], H/2)))\n",
        "      \n",
        "left = Left()\n",
        "right = Right()\n",
        "lower = Lower()\n",
        "upper = Upper()\n",
        "freeslip = Freeslip()\n",
        "\n",
        "# Generate mesh (examples with and without a hole in the mesh) \n",
        "resolution = 64\n",
        "#mesh = RectangleMesh(Point(0.0, 0.0), Point(L, H), L*resolution, H*resolution)\n",
        "# mesh = generate_mesh(Rectangle(Point(0.0,0.0), Point(L,H)) \\\n",
        "#         - Circle(Point(xc,yc),rc) , resolution)\n",
        "\n",
        "!rm Circle_0/*\n",
        "domain = concentric(L,H,0)\n",
        "mesh = generate_mesh(domain, resolution)\n",
        "saved_mesh = File(\"Circle_0/mesh.xml\")\n",
        "saved_mesh << mesh\n",
        "timeseries_u = TimeSeries('Circle_0/velocity_series')\n",
        "\n",
        "# Local mesh refinement (specified by a cell marker)\n",
        "no_levels = 0\n",
        "for i in range(0,no_levels):\n",
        "  cell_marker = MeshFunction(\"bool\", mesh, mesh.topology().dim())\n",
        "  for cell in cells(mesh):\n",
        "    cell_marker[cell] = False\n",
        "    p = cell.midpoint()\n",
        "    if p.distance(Point(xc, yc)) < 0.5:\n",
        "        cell_marker[cell] = True\n",
        "  mesh = refine(mesh, cell_marker)\n",
        "\n",
        "# Define mesh functions (for boundary conditions)\n",
        "boundaries = MeshFunction(\"size_t\", mesh, mesh.topology().dim()-1)\n",
        "boundaries.set_all(0)\n",
        "left.mark(boundaries, 1)\n",
        "right.mark(boundaries, 2)\n",
        "lower.mark(boundaries, 3)\n",
        "upper.mark(boundaries, 4)\n",
        "freeslip.mark(boundaries, 5)\n",
        "fs = 5\n",
        "\n",
        "plt.figure()\n",
        "plot(mesh)\n",
        "plt.show()"
      ],
      "execution_count": 0,
      "outputs": []
    },
    {
      "cell_type": "markdown",
      "metadata": {
        "id": "-le1iA8u3fS-",
        "colab_type": "text"
      },
      "source": [
        "**Define finite element approximation spaces**"
      ]
    },
    {
      "cell_type": "code",
      "metadata": {
        "id": "uWeyBcYXuaPq",
        "colab_type": "code",
        "colab": {
          "base_uri": "https://localhost:8080/",
          "height": 371
        },
        "outputId": "8b1f02c1-b846-42b6-ac4d-233bee1e3c6f"
      },
      "source": [
        "# Generate finite element spaces (for velocity and pressure)\n",
        "V = VectorFunctionSpace(mesh, \"Lagrange\", 1)\n",
        "Q = FunctionSpace(mesh, \"Lagrange\", 1)\n",
        "\n",
        "# Define trial and test functions \n",
        "u = TrialFunction(V)\n",
        "p = TrialFunction(Q)\n",
        "v = TestFunction(V)\n",
        "q = TestFunction(Q)"
      ],
      "execution_count": 6,
      "outputs": [
        {
          "output_type": "error",
          "ename": "AttributeError",
          "evalue": "ignored",
          "traceback": [
            "\u001b[0;31m---------------------------------------------------------------------------\u001b[0m",
            "\u001b[0;31mAttributeError\u001b[0m                            Traceback (most recent call last)",
            "\u001b[0;32m<ipython-input-6-81433ec37fa3>\u001b[0m in \u001b[0;36m<module>\u001b[0;34m()\u001b[0m\n\u001b[1;32m      1\u001b[0m \u001b[0;31m# Generate finite element spaces (for velocity and pressure)\u001b[0m\u001b[0;34m\u001b[0m\u001b[0;34m\u001b[0m\u001b[0;34m\u001b[0m\u001b[0m\n\u001b[0;32m----> 2\u001b[0;31m \u001b[0mV\u001b[0m \u001b[0;34m=\u001b[0m \u001b[0mVectorFunctionSpace\u001b[0m\u001b[0;34m(\u001b[0m\u001b[0mmesh\u001b[0m\u001b[0;34m,\u001b[0m \u001b[0;34m\"Lagrange\"\u001b[0m\u001b[0;34m,\u001b[0m \u001b[0;36m1\u001b[0m\u001b[0;34m)\u001b[0m\u001b[0;34m\u001b[0m\u001b[0;34m\u001b[0m\u001b[0m\n\u001b[0m\u001b[1;32m      3\u001b[0m \u001b[0mQ\u001b[0m \u001b[0;34m=\u001b[0m \u001b[0mFunctionSpace\u001b[0m\u001b[0;34m(\u001b[0m\u001b[0mmesh\u001b[0m\u001b[0;34m,\u001b[0m \u001b[0;34m\"Lagrange\"\u001b[0m\u001b[0;34m,\u001b[0m \u001b[0;36m1\u001b[0m\u001b[0;34m)\u001b[0m\u001b[0;34m\u001b[0m\u001b[0;34m\u001b[0m\u001b[0m\n\u001b[1;32m      4\u001b[0m \u001b[0;34m\u001b[0m\u001b[0m\n\u001b[1;32m      5\u001b[0m \u001b[0;31m# Define trial and test functions\u001b[0m\u001b[0;34m\u001b[0m\u001b[0;34m\u001b[0m\u001b[0;34m\u001b[0m\u001b[0m\n",
            "\u001b[0;32m/usr/lib/python3/dist-packages/dolfin/function/functionspace.py\u001b[0m in \u001b[0;36mVectorFunctionSpace\u001b[0;34m(mesh, family, degree, dim, form_degree, constrained_domain, restriction)\u001b[0m\n\u001b[1;32m    216\u001b[0m \u001b[0;34m\u001b[0m\u001b[0m\n\u001b[1;32m    217\u001b[0m     \u001b[0;31m# Create UFL element\u001b[0m\u001b[0;34m\u001b[0m\u001b[0;34m\u001b[0m\u001b[0;34m\u001b[0m\u001b[0m\n\u001b[0;32m--> 218\u001b[0;31m     element = ufl.VectorElement(family, mesh.ufl_cell(), degree,\n\u001b[0m\u001b[1;32m    219\u001b[0m                                 form_degree=form_degree, dim=dim)\n\u001b[1;32m    220\u001b[0m \u001b[0;34m\u001b[0m\u001b[0m\n",
            "\u001b[0;31mAttributeError\u001b[0m: module 'dolfin.mesh' has no attribute 'ufl_cell'"
          ]
        }
      ]
    },
    {
      "cell_type": "markdown",
      "metadata": {
        "id": "OKzE7v-B3o9R",
        "colab_type": "text"
      },
      "source": [
        "**Define boundary conditions**"
      ]
    },
    {
      "cell_type": "code",
      "metadata": {
        "id": "WAsDDvdKujQT",
        "colab_type": "code",
        "colab": {}
      },
      "source": [
        "# Define boundary conditions \n",
        "class DirichletBoundaryLower(SubDomain):\n",
        "    def inside(self, x, on_boundary):\n",
        "        return on_boundary and near(x[1], -H/2)\n",
        "\n",
        "class DirichletBoundaryUpper(SubDomain):\n",
        "    def inside(self, x, on_boundary):\n",
        "        return on_boundary and near(x[1], H/2)\n",
        "\n",
        "class DirichletBoundaryLeft(SubDomain):\n",
        "    def inside(self, x, on_boundary):\n",
        "        return on_boundary and near(x[0], -L/2) \n",
        "\n",
        "class DirichletBoundaryRight(SubDomain):\n",
        "    def inside(self, x, on_boundary):\n",
        "        return on_boundary and near(x[0], L/2)\n",
        "\n",
        "class DirichletBoundaryObjects(SubDomain):\n",
        "    def inside(self, x, on_boundary):\n",
        "        return on_boundary and (not near(x[0], -L/2)) and (not near(x[0], L/2)) and (not near(x[1], -H/2)) and (not near(x[1], H/2))\n",
        "\n",
        "dbc_lower = DirichletBoundaryLower()\n",
        "dbc_upper = DirichletBoundaryUpper()\n",
        "dbc_left = DirichletBoundaryLeft()\n",
        "dbc_right = DirichletBoundaryRight()\n",
        "dbc_objects = DirichletBoundaryObjects()\n",
        "\n",
        "# Examples of time dependent and stationary inflow conditions\n",
        "#uin = Expression('4.0*x[1]*(1-x[1])', element = V.sub(0).ufl_element())\n",
        "#uin = Expression('1.0 + 1.0*fabs(sin(t))', element = V.sub(0).ufl_element(), t=0.0)\n",
        "uin = 1.0\n",
        "bcu_in0 = DirichletBC(V.sub(0), uin, dbc_left)\n",
        "bcu_in1 = DirichletBC(V.sub(1), 0.0, dbc_left)\n",
        "bcu_upp0 = DirichletBC(V.sub(0), 0.0, dbc_upper)\n",
        "bcu_upp1 = DirichletBC(V.sub(1), 0.0, dbc_upper)\n",
        "bcu_low0 = DirichletBC(V.sub(0), 0.0, dbc_lower)\n",
        "bcu_low1 = DirichletBC(V.sub(1), 0.0, dbc_lower)\n",
        "\n",
        "pin = Expression('5.0*fabs(sin(t))', element = Q.ufl_element(), t=0.0)\n",
        "pout = 0.0\n",
        "#bcp0 = DirichletBC(Q, pin, dbc_left) \n",
        "bcp1 = DirichletBC(Q, pout, dbc_right)\n",
        "\n",
        "#bcu = [bcu_in0, bcu_in1, bcu_upp0, bcu_upp1, bcu_low0, bcu_low1, bcu_obj0, bcu_obj1]\n",
        "bcu = [bcu_in0, bcu_in1, bcu_upp1, bcu_low1]\n",
        "bcp = [bcp1]\n",
        "\n",
        "# Define measure for boundary integration  \n",
        "ds = Measure('ds', domain=mesh, subdomain_data=boundaries)"
      ],
      "execution_count": 0,
      "outputs": []
    },
    {
      "cell_type": "code",
      "metadata": {
        "id": "Alul5VPRfaI3",
        "colab_type": "code",
        "colab": {}
      },
      "source": [
        "# # inflow and outflow conditions\n",
        "# XMIN = 0.0; XMAX = L\n",
        "# YMIN = 0.0; YMAX = H\n",
        "\n",
        "# # define uin of size 1 for different angles: 0, pi/6, pi/3, pi/2\n",
        "# # angle = 0\n",
        "# # uin_x = cos(angle)\n",
        "# # uin_y = sin(angle)\n",
        "# # uin = Expression((\"uin_x\", \"uin_y\"), uin_x=uin_x, uin_y=uin_y, element = V.ufl_element()) \n",
        "# # pin = Expression('5.0*fabs(sin(t))', element = Q.ufl_element(), t=0.0)\n",
        "# # pout = 0.0\n",
        "\n",
        "# # Inflow boundary (ib), outflow boundary (ob) and wall boundary (wb)\n",
        "# ib = Expression(\"near(x[0],XMIN) || near(x[1],YMIN) ? 1. : 0.\", XMIN=XMIN, YMIN=YMIN, element = Q.ufl_element())\n",
        "# ob = Expression(\"near(x[0],XMAX) || near(x[1], YMAX) ? 1. : 0.\", XMAX=XMAX, YMAX=YMAX, element = Q.ufl_element()) \n",
        "# wb = Expression(\"x[0] > XMIN + DOLFIN_EPS && x[0] < XMAX - DOLFIN_EPS && x[1] > YMIN + DOLFIN_EPS && x[1] < YMAX - DOLFIN_EPS? 1. : 0.\", XMIN=XMIN, XMAX=XMAX, YMIN=YMIN,YMAX=YMAX, element = Q.ufl_element())"
      ],
      "execution_count": 0,
      "outputs": []
    },
    {
      "cell_type": "markdown",
      "metadata": {
        "id": "SsQLT38gVbn_",
        "colab_type": "text"
      },
      "source": [
        "# **Results**"
      ]
    },
    {
      "cell_type": "markdown",
      "metadata": {
        "id": "lA2Lsqa84Yld",
        "colab_type": "text"
      },
      "source": [
        "**Define flow parameters**"
      ]
    },
    {
      "cell_type": "code",
      "metadata": {
        "id": "X7tupdYpuq0x",
        "colab_type": "code",
        "colab": {}
      },
      "source": [
        "# Set viscosity\n",
        "nu = 4e-10"
      ],
      "execution_count": 0,
      "outputs": []
    },
    {
      "cell_type": "markdown",
      "metadata": {
        "id": "qI4ZYb5E4w5p",
        "colab_type": "text"
      },
      "source": [
        "**Define method parameters**"
      ]
    },
    {
      "cell_type": "code",
      "metadata": {
        "id": "6o3zdXWYuuFy",
        "colab_type": "code",
        "colab": {}
      },
      "source": [
        "# Define iteration functions\n",
        "# (u0,p0) solution from previous time step\n",
        "# (u1,p1) linearized solution at present time step  \n",
        "u0 = Function(V)\n",
        "u1 = Function(V)\n",
        "p0 = Function(Q)\n",
        "p1 = Function(Q)\n",
        "\n",
        "# Set parameters for nonlinear and lienar solvers \n",
        "num_nnlin_iter = 5 \n",
        "prec = \"amg\" if has_krylov_solver_preconditioner(\"amg\") else \"default\" \n",
        "\n",
        "# Time step length (try shorter)\n",
        "dt = 0.5*mesh.hmin() "
      ],
      "execution_count": 0,
      "outputs": []
    },
    {
      "cell_type": "markdown",
      "metadata": {
        "id": "y0EnzPyU46PX",
        "colab_type": "text"
      },
      "source": [
        "**Define variational problem**"
      ]
    },
    {
      "cell_type": "code",
      "metadata": {
        "id": "W-bCOI6LuxFi",
        "colab_type": "code",
        "colab": {}
      },
      "source": [
        "# Define variational problem\n",
        "\n",
        "# Stabilization parameters\n",
        "h = CellDiameter(mesh);\n",
        "u_mag = sqrt(dot(u1,u1))\n",
        "#increase for more stability\n",
        "d1 = 1.0/sqrt((pow(1.0/dt,2.0) + pow(u_mag/h,2.0)))\n",
        "d2 = h*u_mag\n",
        "C = 1.0e3\n",
        "gamma = C/h\n",
        "n = FacetNormal(mesh)\n",
        "\n",
        "# Mean velocities for trapozoidal time stepping\n",
        "um = 0.5*(u + u0)\n",
        "um1 = 0.5*(u1 + u0)\n",
        "\n",
        "# Momentum variational equation on residual form\n",
        "Fu = inner((u - u0)/dt + grad(um)*um1, v)*dx - p1*div(v)*dx + nu*inner(grad(um), grad(v))*dx \\\n",
        "    + d1*inner((u - u0)/dt + grad(um)*um1 + grad(p1), grad(v)*um1)*dx + d2*div(um)*div(v)*dx \\\n",
        "    + gamma*(inner(dot(u,n), dot(v,n)))*ds(fs)\n",
        "au = lhs(Fu)\n",
        "Lu = rhs(Fu)\n",
        "\n",
        "# Continuity variational equation on residual form\n",
        "Fp = d1*inner((u1 - u0)/dt + grad(um1)*um1 + grad(p), grad(q))*dx + div(um1)*q*dx \n",
        "ap = lhs(Fp)\n",
        "Lp = rhs(Fp)"
      ],
      "execution_count": 0,
      "outputs": []
    },
    {
      "cell_type": "markdown",
      "metadata": {
        "id": "vFN4F231ZXKc",
        "colab_type": "text"
      },
      "source": [
        "**Compute force on boundary**"
      ]
    },
    {
      "cell_type": "code",
      "metadata": {
        "id": "-2aWCr3YZccP",
        "colab_type": "code",
        "colab": {}
      },
      "source": [
        "# Define the direction of the force to be computed \n",
        "phi_x = 0.0\n",
        "phi_y = 1.0\n",
        "\n",
        "#psi_expression = Expression((\"0.0\",\"pow(x[0]-0.5,2.0) + pow(x[1]-1.0,2.0) - pow(0.2,2.0) < 1.e-5 ? 1. : 0.\"), element = V.ufl_element())\n",
        "psi_expression = Expression((\"near(pow(x[0]-xc,2.0) + pow(x[1]-yc,2.0) - pow(rc,2.0), 0.0) ? phi_x : 0.\",\"near(pow(x[0]-xc,2.0) + pow(x[1]-yc,2.0) - pow(rc,2.0), 0.0) ? phi_y : 0.\"), xc=xc, yc=yc, rc=rc, phi_x=phi_x, phi_y=phi_y, element = V.ufl_element())\n",
        "psi = interpolate(psi_expression, V)\n",
        "\n",
        "Force = inner((u1 - u0)/dt + grad(um1)*um1, psi)*dx - p1*div(psi)*dx + nu*inner(grad(um1), grad(psi))*dx\n",
        "\n",
        "plt.figure()\n",
        "plot(psi, title=\"weight function psi\")\n",
        "\n",
        "# Force normalization\n",
        "D = 2*rc\n",
        "normalization = -2.0/D"
      ],
      "execution_count": 0,
      "outputs": []
    },
    {
      "cell_type": "markdown",
      "metadata": {
        "id": "nl9EBgZU6tMZ",
        "colab_type": "text"
      },
      "source": [
        "**Set plotting variables and open export files**"
      ]
    },
    {
      "cell_type": "code",
      "metadata": {
        "id": "Xpu2R7ZMu3bO",
        "colab_type": "code",
        "colab": {}
      },
      "source": [
        "# Open files to export solution to Paraview\n",
        "file_u = File(\"results-NS/u.pvd\")\n",
        "file_p = File(\"results-NS/p.pvd\")\n",
        "\n",
        "# Set plot frequency\n",
        "plot_time = 0\n",
        "plot_freq = 10\n",
        "\n",
        "# Force computation data \n",
        "force_array = np.array(0.0)\n",
        "force_array = np.delete(force_array, 0)\n",
        "time = np.array(0.0)\n",
        "time = np.delete(time, 0)\n",
        "start_sample_time = 1.0"
      ],
      "execution_count": 0,
      "outputs": []
    },
    {
      "cell_type": "markdown",
      "metadata": {
        "id": "F_PajAPw6xdn",
        "colab_type": "text"
      },
      "source": [
        "**Time stepping algorithm**"
      ]
    },
    {
      "cell_type": "code",
      "metadata": {
        "id": "JUfvsjZPvBc0",
        "colab_type": "code",
        "colab": {}
      },
      "source": [
        "\n",
        "# Time stepping \n",
        "T = 6\n",
        "t = dt\n",
        "u_mean = Constant((0.0,0.0))\n",
        "num = 0\n",
        "t_t = 0\n",
        "\n",
        "while t < T + DOLFIN_EPS:\n",
        "\n",
        "    #s = 'Time t = ' + repr(t) \n",
        "    #print(s)\n",
        "\n",
        "    pin.t = t\n",
        "    #uin.t = t\n",
        "\n",
        "    # Solve non-linear problem \n",
        "    k = 0\n",
        "    while k < num_nnlin_iter: \n",
        "        \n",
        "        # Assemble momentum matrix and vector \n",
        "        Au = assemble(au)\n",
        "        bu = assemble(Lu)\n",
        "\n",
        "        # Compute velocity solution \n",
        "        [bc.apply(Au, bu) for bc in bcu]\n",
        "        [bc.apply(u1.vector()) for bc in bcu]\n",
        "        solve(Au, u1.vector(), bu, \"bicgstab\", \"default\")\n",
        "\n",
        "        # Assemble continuity matrix and vector\n",
        "        Ap = assemble(ap) \n",
        "        bp = assemble(Lp)\n",
        "\n",
        "        # Compute pressure solution \n",
        "        [bc.apply(Ap, bp) for bc in bcp]\n",
        "        [bc.apply(p1.vector()) for bc in bcp]\n",
        "        solve(Ap, p1.vector(), bp, \"bicgstab\", prec)\n",
        "\n",
        "        # Compute force\n",
        "        F = assemble(Force)\n",
        "        if (t > start_sample_time):\n",
        "          force_array = np.append(force_array, normalization*F)\n",
        "          time = np.append(time, t)\n",
        "\n",
        "        k += 1\n",
        "\n",
        "    if t>3:\n",
        "        timeseries_u.store(u1.vector(), t_t)\n",
        "        t_t += dt\n",
        "\n",
        "    if t > plot_time:     \n",
        "        \n",
        "        s = 'Time t = ' + repr(t) \n",
        "        print(s)\n",
        "    \n",
        "        # Save solution to file\n",
        "        # file_u << u1\n",
        "        # file_p << p1\n",
        "\n",
        "        # Plot solution\n",
        "        plt.figure()\n",
        "        plot(u1, title=\"Velocity\")\n",
        "\n",
        "        plt.figure()\n",
        "        plot(p1, title=\"Pressure\")\n",
        "\n",
        "        plot_time += T/plot_freq\n",
        "        \n",
        "        plt.show()\n",
        "\n",
        "        plt.figure()\n",
        "        plt.title(\"Force\")\n",
        "        plt.plot(time, force_array)\n",
        "        plt.show()\n",
        "\n",
        "    # Update time step\n",
        "    u0.assign(u1)\n",
        "    t += dt\n",
        "\n",
        "# u_mean = u_mean/num\n",
        "\n",
        "plt.figure()\n",
        "plot(u1, title=\"Mean Velocity\")\n",
        "\n",
        "!tar -czvf results.tar.gz Circle_0\n",
        "files.download('results.tar.gz')"
      ],
      "execution_count": 0,
      "outputs": []
    },
    {
      "cell_type": "code",
      "metadata": {
        "id": "DdoRNE9R4t3b",
        "colab_type": "code",
        "colab": {}
      },
      "source": [
        "# Save solution\n",
        "# u_sol = project(u_mean,V)\n",
        "# output_file = HDF5File(mesh.mpi_comm(), \"u_c_10.h5\", \"w\")\n",
        "# output_file.write(u_sol, \"solution\")\n",
        "# output_file.close()\n",
        "\n",
        "# Load solution\n",
        "# U = Function(V)\n",
        "# input_file = HDF5File(mesh.mpi_comm(), \"u_c_0.h5\", \"r\")\n",
        "# input_file.read(U, \"solution\")\n",
        "# input_file.close()\n",
        "\n",
        "# plt.figure()\n",
        "# plot(U, title=\"Mean Velocity\")"
      ],
      "execution_count": 0,
      "outputs": []
    },
    {
      "cell_type": "markdown",
      "metadata": {
        "id": "_4GLBv0zWr7m",
        "colab_type": "text"
      },
      "source": [
        "# **Discussion**"
      ]
    },
    {
      "cell_type": "markdown",
      "metadata": {
        "id": "6bcsDSoRXHZe",
        "colab_type": "text"
      },
      "source": [
        "A stabilized finite element method was implemented in FEniCS to solve the Navier-Stokes equations in 2D. The method was tested for the model problem of flow past a circular obstacle, and for a high enough Reynolds number and sufficient mesh resolution [a von Karman vortex street developed as expected.](https://en.wikipedia.org/wiki/Kármán_vortex_street)"
      ]
    }
  ]
}