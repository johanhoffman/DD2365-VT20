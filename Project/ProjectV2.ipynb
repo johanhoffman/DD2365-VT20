{
  "nbformat": 4,
  "nbformat_minor": 0,
  "metadata": {
    "colab": {
      "name": "ProjectV2.ipynb",
      "provenance": [],
      "include_colab_link": true
    },
    "kernelspec": {
      "name": "python3",
      "display_name": "Python 3"
    }
  },
  "cells": [
    {
      "cell_type": "markdown",
      "metadata": {
        "id": "view-in-github",
        "colab_type": "text"
      },
      "source": [
        "<a href=\"https://colab.research.google.com/github/johanhoffman/DD2365-VT20/blob/LindeBee/Project/ProjectV2.ipynb\" target=\"_parent\"><img src=\"https://colab.research.google.com/assets/colab-badge.svg\" alt=\"Open In Colab\"/></a>"
      ]
    },
    {
      "cell_type": "markdown",
      "metadata": {
        "id": "cyCUwzF-wRoW",
        "colab_type": "text"
      },
      "source": [
        "# **The Stokes equations**\n",
        "**Johan Hoffman**"
      ]
    },
    {
      "cell_type": "markdown",
      "metadata": {
        "id": "9x_J5FVuPzbm",
        "colab_type": "text"
      },
      "source": [
        "# **Abstract**"
      ]
    },
    {
      "cell_type": "markdown",
      "metadata": {
        "id": "6UFTSzW7P8kL",
        "colab_type": "text"
      },
      "source": [
        "This short report show an example on how to use FEniCS to solve the Stokes equations, which is used in the course DD2365 Advanced Computation in Fluid Mechanics, at the KTH Royal Institute of Technology.\n",
        "\n",
        "[DD2365 course website.](https://kth.instructure.com/courses/17071)"
      ]
    },
    {
      "cell_type": "markdown",
      "metadata": {
        "id": "OkT8J7uOWpT3",
        "colab_type": "text"
      },
      "source": [
        "# **About the code**"
      ]
    },
    {
      "cell_type": "code",
      "metadata": {
        "id": "Pdll1Xc9WP0e",
        "colab_type": "code",
        "outputId": "d81958bc-db85-4d63-fe49-c8b68d160f7c",
        "colab": {
          "base_uri": "https://localhost:8080/",
          "height": 34
        }
      },
      "source": [
        "\"\"\"This program is an example file for the course\"\"\"\n",
        "\"\"\"DD2365 Advanced Computation in Fluid Mechanics, \"\"\"\n",
        "\"\"\"KTH Royal Institute of Technology, Stockholm, Sweden.\"\"\"\n",
        "\n",
        "# Copyright (C) 2020 Johan Hoffman (jhoffman@kth.se)\n",
        "\n",
        "# This file is part of the course DD2365 Advanced Computation in Fluid Mechanics\n",
        "# KTH Royal Institute of Technology, Stockholm, Sweden\n",
        "#\n",
        "# This is free software: you can redistribute it and/or modify\n",
        "# it under the terms of the GNU Lesser General Public License as published by\n",
        "# the Free Software Foundation, either version 3 of the License, or\n",
        "# (at your option) any later version.\n",
        "\n",
        "# This template is maintained by Johan Hoffman\n",
        "# Please report problems to jhoffman@kth.se"
      ],
      "execution_count": 1,
      "outputs": [
        {
          "output_type": "execute_result",
          "data": {
            "text/plain": [
              "'KTH Royal Institute of Technology, Stockholm, Sweden.'"
            ]
          },
          "metadata": {
            "tags": []
          },
          "execution_count": 1
        }
      ]
    },
    {
      "cell_type": "markdown",
      "metadata": {
        "id": "28xLGz8JX3Hh",
        "colab_type": "text"
      },
      "source": [
        "# **Set up environment**"
      ]
    },
    {
      "cell_type": "code",
      "metadata": {
        "id": "Xw7VlErAX7NS",
        "colab_type": "code",
        "colab": {
          "base_uri": "https://localhost:8080/",
          "height": 1000
        },
        "outputId": "4af6e139-b922-46ae-9785-37121eebbca8"
      },
      "source": [
        "# Load neccessary modules.\n",
        "from google.colab import files\n",
        "\n",
        "try:\n",
        "    from dolfin import *; from mshr import *\n",
        "except ImportError as e:\n",
        "    !apt-get install -y -qq software-properties-common \n",
        "    !add-apt-repository -y ppa:fenics-packages/fenics\n",
        "    !apt-get update -qq\n",
        "    !apt install -y --no-install-recommends fenics\n",
        "    from dolfin import *; from mshr import *\n",
        "    \n",
        "import dolfin.common.plotting as fenicsplot\n",
        "import math\n",
        "\n",
        "from matplotlib import pyplot as plt"
      ],
      "execution_count": 2,
      "outputs": [
        {
          "output_type": "stream",
          "text": [
            "Get:1 http://security.ubuntu.com/ubuntu bionic-security InRelease [88.7 kB]\n",
            "Ign:2 https://developer.download.nvidia.com/compute/cuda/repos/ubuntu1804/x86_64  InRelease\n",
            "Get:3 https://cloud.r-project.org/bin/linux/ubuntu bionic-cran35/ InRelease [3,626 B]\n",
            "Get:4 http://ppa.launchpad.net/fenics-packages/fenics/ubuntu bionic InRelease [15.4 kB]\n",
            "Ign:5 https://developer.download.nvidia.com/compute/machine-learning/repos/ubuntu1804/x86_64  InRelease\n",
            "Hit:6 http://archive.ubuntu.com/ubuntu bionic InRelease\n",
            "Hit:7 https://developer.download.nvidia.com/compute/cuda/repos/ubuntu1804/x86_64  Release\n",
            "Hit:8 https://developer.download.nvidia.com/compute/machine-learning/repos/ubuntu1804/x86_64  Release\n",
            "Get:9 http://archive.ubuntu.com/ubuntu bionic-updates InRelease [88.7 kB]\n",
            "Hit:10 http://ppa.launchpad.net/graphics-drivers/ppa/ubuntu bionic InRelease\n",
            "Get:11 http://ppa.launchpad.net/marutter/c2d4u3.5/ubuntu bionic InRelease [15.4 kB]\n",
            "Get:12 http://archive.ubuntu.com/ubuntu bionic-backports InRelease [74.6 kB]\n",
            "Get:13 http://ppa.launchpad.net/fenics-packages/fenics/ubuntu bionic/main amd64 Packages [5,700 B]\n",
            "Get:14 http://security.ubuntu.com/ubuntu bionic-security/main amd64 Packages [908 kB]\n",
            "Get:15 http://security.ubuntu.com/ubuntu bionic-security/universe amd64 Packages [844 kB]\n",
            "Get:18 http://archive.ubuntu.com/ubuntu bionic-updates/main amd64 Packages [1,205 kB]\n",
            "Get:19 http://ppa.launchpad.net/marutter/c2d4u3.5/ubuntu bionic/main Sources [1,815 kB]\n",
            "Get:20 http://archive.ubuntu.com/ubuntu bionic-updates/universe amd64 Packages [1,376 kB]\n",
            "Get:21 http://ppa.launchpad.net/marutter/c2d4u3.5/ubuntu bionic/main amd64 Packages [876 kB]\n",
            "Fetched 7,316 kB in 4s (1,996 kB/s)\n",
            "Reading package lists... Done\n",
            "Reading package lists... Done\n",
            "Building dependency tree       \n",
            "Reading state information... Done\n",
            "The following additional packages will be installed:\n",
            "  dolfin-bin dolfin-doc libamd2 libarpack2-dev libblas-dev libblas3 libbtf1\n",
            "  libcamd2 libccolamd2 libcholmod3 libcolamd2 libcxsparse3 libdolfin-dev\n",
            "  libdolfin2019.1 libeigen3-dev libfftw3-bin libfftw3-dev libfftw3-long3\n",
            "  libfftw3-mpi-dev libfftw3-mpi3 libfftw3-quad3 libfftw3-single3 libgraphblas1\n",
            "  libhdf5-mpi-dev libhdf5-openmpi-dev libhypre-2.13.0 libhypre-dev libklu1\n",
            "  libldl2 libmetis5 libmshr-dev libmshr2019.1 libmumps-5.1.2 libmumps-dev\n",
            "  libparpack2 libparpack2-dev libpetsc3.7.7 libpetsc3.7.7-dev libproj-dev\n",
            "  libptscotch-6.0 libptscotch-dev librbio2 libscalapack-mpi-dev\n",
            "  libscalapack-openmpi-dev libscalapack-openmpi2.0 libscotch-6.0 libscotch-dev\n",
            "  libslepc3.7.4 libslepc3.7.4-dev libspooles-dev libspooles2.2 libspqr2\n",
            "  libsuitesparse-dev libsuitesparseconfig5 libsuperlu-dev libsuperlu-dist5\n",
            "  libtet1.5 libumfpack5 pybind11-dev python-ufl-doc python3-dijitso\n",
            "  python3-dolfin python3-ffc python3-fiat python3-mpi4py python3-mpmath\n",
            "  python3-mshr python3-petsc4py python3-pkg-resources python3-pkgconfig\n",
            "  python3-ply python3-pybind11 python3-six python3-slepc4py python3-sympy\n",
            "  python3-ufl\n",
            "Suggested packages:\n",
            "  liblapack-doc libeigen3-doc libmrpt-dev libfftw3-doc libhdf5-doc petsc-dev\n",
            "  libpetsc3.7.7-dbg petsc3.7.7-doc libluminate-dev proj-bin scalapack-doc\n",
            "  slepc3.7.4-doc spooles-doc libsuperlu-doc pybind11-doc python-dijitso-doc\n",
            "  python3-gmpy2 python3-matplotlib python-mpmath-doc python3-setuptools\n",
            "  python-ply-doc texlive-fonts-extra dvipng python-sympy-doc\n",
            "Recommended packages:\n",
            "  tcsh | csh | c-shell ksh | mksh | pdksh | zsh python-petsc4py-docs\n",
            "  python-slepc4py-docs python3-pil ipython3\n",
            "The following NEW packages will be installed:\n",
            "  dolfin-bin dolfin-doc fenics libamd2 libarpack2-dev libblas-dev libblas3\n",
            "  libbtf1 libcamd2 libccolamd2 libcholmod3 libcolamd2 libcxsparse3\n",
            "  libdolfin-dev libdolfin2019.1 libeigen3-dev libfftw3-bin libfftw3-dev\n",
            "  libfftw3-long3 libfftw3-mpi-dev libfftw3-mpi3 libfftw3-quad3\n",
            "  libfftw3-single3 libgraphblas1 libhdf5-mpi-dev libhdf5-openmpi-dev\n",
            "  libhypre-2.13.0 libhypre-dev libklu1 libldl2 libmetis5 libmshr-dev\n",
            "  libmshr2019.1 libmumps-5.1.2 libmumps-dev libparpack2 libparpack2-dev\n",
            "  libpetsc3.7.7 libpetsc3.7.7-dev libproj-dev libptscotch-6.0 libptscotch-dev\n",
            "  librbio2 libscalapack-mpi-dev libscalapack-openmpi-dev\n",
            "  libscalapack-openmpi2.0 libscotch-6.0 libscotch-dev libslepc3.7.4\n",
            "  libslepc3.7.4-dev libspooles-dev libspooles2.2 libspqr2 libsuitesparse-dev\n",
            "  libsuitesparseconfig5 libsuperlu-dev libsuperlu-dist5 libtet1.5 libumfpack5\n",
            "  pybind11-dev python-ufl-doc python3-dijitso python3-dolfin python3-ffc\n",
            "  python3-fiat python3-mpi4py python3-mpmath python3-mshr python3-petsc4py\n",
            "  python3-pkg-resources python3-pkgconfig python3-ply python3-pybind11\n",
            "  python3-six python3-slepc4py python3-sympy python3-ufl\n",
            "0 upgraded, 77 newly installed, 0 to remove and 35 not upgraded.\n",
            "Need to get 50.6 MB of archives.\n",
            "After this operation, 267 MB of additional disk space will be used.\n",
            "Get:1 http://ppa.launchpad.net/fenics-packages/fenics/ubuntu bionic/main amd64 libdolfin2019.1 amd64 2019.1.0-1~ppa1~bionic4 [1,704 kB]\n",
            "Get:2 http://archive.ubuntu.com/ubuntu bionic/main amd64 libsuitesparseconfig5 amd64 1:5.1.2-2 [9,044 B]\n",
            "Get:3 http://archive.ubuntu.com/ubuntu bionic/main amd64 libamd2 amd64 1:5.1.2-2 [19.5 kB]\n",
            "Get:4 http://archive.ubuntu.com/ubuntu bionic/main amd64 libblas3 amd64 3.7.1-4ubuntu1 [140 kB]\n",
            "Get:5 http://archive.ubuntu.com/ubuntu bionic/main amd64 libcamd2 amd64 1:5.1.2-2 [20.9 kB]\n",
            "Get:6 http://archive.ubuntu.com/ubuntu bionic/main amd64 libccolamd2 amd64 1:5.1.2-2 [21.7 kB]\n",
            "Get:7 http://archive.ubuntu.com/ubuntu bionic/main amd64 libcolamd2 amd64 1:5.1.2-2 [16.2 kB]\n",
            "Get:8 http://archive.ubuntu.com/ubuntu bionic/main amd64 libmetis5 amd64 5.1.0.dfsg-5 [169 kB]\n",
            "Get:9 http://archive.ubuntu.com/ubuntu bionic/main amd64 libcholmod3 amd64 1:5.1.2-2 [300 kB]\n",
            "Get:10 http://archive.ubuntu.com/ubuntu bionic/main amd64 libfftw3-long3 amd64 3.3.7-1 [308 kB]\n",
            "Get:11 http://archive.ubuntu.com/ubuntu bionic/main amd64 libfftw3-single3 amd64 3.3.7-1 [764 kB]\n",
            "Get:12 http://archive.ubuntu.com/ubuntu bionic/universe amd64 libfftw3-mpi3 amd64 3.3.7-1 [47.5 kB]\n",
            "Get:13 http://archive.ubuntu.com/ubuntu bionic/universe amd64 libscotch-6.0 amd64 6.0.4.dfsg1-8 [403 kB]\n",
            "Get:14 http://archive.ubuntu.com/ubuntu bionic/universe amd64 libptscotch-6.0 amd64 6.0.4.dfsg1-8 [654 kB]\n",
            "Get:15 http://archive.ubuntu.com/ubuntu bionic/universe amd64 libsuperlu-dist5 amd64 5.3.0+dfsg1-1 [213 kB]\n",
            "Get:16 http://archive.ubuntu.com/ubuntu bionic/universe amd64 libhypre-2.13.0 amd64 2.13.0-2 [1,718 kB]\n",
            "Get:17 http://ppa.launchpad.net/fenics-packages/fenics/ubuntu bionic/main amd64 python3-fiat all 2019.1.0-1~ppa1~bionic1 [55.9 kB]\n",
            "Get:18 http://archive.ubuntu.com/ubuntu bionic/main amd64 libbtf1 amd64 1:5.1.2-2 [10.6 kB]\n",
            "Get:19 http://archive.ubuntu.com/ubuntu bionic/main amd64 libklu1 amd64 1:5.1.2-2 [69.3 kB]\n",
            "Get:20 http://archive.ubuntu.com/ubuntu bionic/universe amd64 libscalapack-openmpi2.0 amd64 2.0.2-4 [1,473 kB]\n",
            "Get:21 http://archive.ubuntu.com/ubuntu bionic/universe amd64 libmumps-5.1.2 amd64 5.1.2-4 [1,103 kB]\n",
            "Get:22 http://archive.ubuntu.com/ubuntu bionic/main amd64 libumfpack5 amd64 1:5.1.2-2 [229 kB]\n",
            "Get:23 http://archive.ubuntu.com/ubuntu bionic/universe amd64 libpetsc3.7.7 amd64 3.7.7+dfsg1-2build5 [3,935 kB]\n",
            "Get:24 http://archive.ubuntu.com/ubuntu bionic/universe amd64 libparpack2 amd64 3.5.0+real-2 [84.5 kB]\n",
            "Get:25 http://archive.ubuntu.com/ubuntu bionic/universe amd64 libslepc3.7.4 amd64 3.7.4+dfsg1-2build8 [743 kB]\n",
            "Get:26 http://archive.ubuntu.com/ubuntu bionic/universe amd64 libeigen3-dev all 3.3.4-4 [810 kB]\n",
            "Get:27 http://archive.ubuntu.com/ubuntu bionic/universe amd64 libhdf5-openmpi-dev amd64 1.10.0-patch1+docs-4 [2,392 kB]\n",
            "Get:28 http://archive.ubuntu.com/ubuntu bionic/universe amd64 libhdf5-mpi-dev amd64 1.10.0-patch1+docs-4 [3,074 B]\n",
            "Get:29 http://archive.ubuntu.com/ubuntu bionic/main amd64 libcxsparse3 amd64 1:5.1.2-2 [63.9 kB]\n",
            "Get:30 http://archive.ubuntu.com/ubuntu bionic/main amd64 libgraphblas1 amd64 1:5.1.2-2 [384 kB]\n",
            "Get:31 http://ppa.launchpad.net/fenics-packages/fenics/ubuntu bionic/main amd64 python3-ufl all 2019.1.0-1~ppa1~bionic1 [149 kB]\n",
            "Get:32 http://archive.ubuntu.com/ubuntu bionic/main amd64 libldl2 amd64 1:5.1.2-2 [10.3 kB]\n",
            "Get:33 http://archive.ubuntu.com/ubuntu bionic/main amd64 librbio2 amd64 1:5.1.2-2 [24.0 kB]\n",
            "Get:34 http://archive.ubuntu.com/ubuntu bionic/main amd64 libspqr2 amd64 1:5.1.2-2 [64.2 kB]\n",
            "Get:35 http://archive.ubuntu.com/ubuntu bionic/main amd64 libblas-dev amd64 3.7.1-4ubuntu1 [143 kB]\n",
            "Get:36 http://archive.ubuntu.com/ubuntu bionic/main amd64 libsuitesparse-dev amd64 1:5.1.2-2 [1,235 kB]\n",
            "Get:37 http://archive.ubuntu.com/ubuntu bionic/universe amd64 libscotch-dev amd64 6.0.4.dfsg1-8 [1,791 kB]\n",
            "Get:38 http://archive.ubuntu.com/ubuntu bionic/universe amd64 python3-mpmath all 1.0.0-1 [400 kB]\n",
            "Get:39 http://archive.ubuntu.com/ubuntu bionic/universe amd64 python3-sympy all 1.1.1-5 [2,569 kB]\n",
            "Get:40 http://archive.ubuntu.com/ubuntu bionic/main amd64 python3-pkg-resources all 39.0.1-2 [98.8 kB]\n",
            "Get:41 http://archive.ubuntu.com/ubuntu bionic/universe amd64 python3-mpi4py amd64 2.0.0-3 [420 kB]\n",
            "Get:42 http://archive.ubuntu.com/ubuntu bionic/universe amd64 libspooles2.2 amd64 2.2-12build1 [458 kB]\n",
            "Get:43 http://archive.ubuntu.com/ubuntu bionic/universe amd64 libspooles-dev amd64 2.2-12build1 [587 kB]\n",
            "Get:44 http://archive.ubuntu.com/ubuntu bionic/universe amd64 libsuperlu-dev amd64 5.2.1+dfsg1-3 [16.3 kB]\n",
            "Get:45 http://archive.ubuntu.com/ubuntu bionic/universe amd64 libhypre-dev amd64 2.13.0-2 [134 kB]\n",
            "Get:46 http://archive.ubuntu.com/ubuntu bionic/universe amd64 libptscotch-dev amd64 6.0.4.dfsg1-8 [5,416 kB]\n",
            "Get:47 http://archive.ubuntu.com/ubuntu bionic/universe amd64 libscalapack-openmpi-dev amd64 2.0.2-4 [6,068 B]\n",
            "Get:48 http://archive.ubuntu.com/ubuntu bionic/universe amd64 libscalapack-mpi-dev amd64 2.0.2-4 [2,108 B]\n",
            "Get:49 http://archive.ubuntu.com/ubuntu bionic/universe amd64 libmumps-dev amd64 5.1.2-4 [984 kB]\n",
            "Get:50 http://archive.ubuntu.com/ubuntu bionic/main amd64 libfftw3-quad3 amd64 3.3.7-1 [552 kB]\n",
            "Get:51 http://archive.ubuntu.com/ubuntu bionic/main amd64 libfftw3-bin amd64 3.3.7-1 [32.7 kB]\n",
            "Get:52 http://archive.ubuntu.com/ubuntu bionic/main amd64 libfftw3-dev amd64 3.3.7-1 [2,108 kB]\n",
            "Get:53 http://ppa.launchpad.net/fenics-packages/fenics/ubuntu bionic/main amd64 python3-dijitso all 2019.1.0-1~ppa1~bionic1 [24.3 kB]\n",
            "Get:54 http://archive.ubuntu.com/ubuntu bionic/universe amd64 libfftw3-mpi-dev amd64 3.3.7-1 [47.6 kB]\n",
            "Get:55 http://archive.ubuntu.com/ubuntu bionic/universe amd64 libpetsc3.7.7-dev amd64 3.7.7+dfsg1-2build5 [3,495 kB]\n",
            "Get:56 http://archive.ubuntu.com/ubuntu bionic/universe amd64 libarpack2-dev amd64 3.5.0+real-2 [97.3 kB]\n",
            "Get:57 http://archive.ubuntu.com/ubuntu bionic/universe amd64 libparpack2-dev amd64 3.5.0+real-2 [92.0 kB]\n",
            "Get:58 http://archive.ubuntu.com/ubuntu bionic/universe amd64 libslepc3.7.4-dev amd64 3.7.4+dfsg1-2build8 [1,701 kB]\n",
            "Get:59 http://archive.ubuntu.com/ubuntu bionic/main amd64 python3-ply all 3.11-1 [46.6 kB]\n",
            "Get:60 http://archive.ubuntu.com/ubuntu bionic/main amd64 python3-six all 1.11.0-2 [11.4 kB]\n",
            "Get:61 http://archive.ubuntu.com/ubuntu bionic/universe amd64 python3-petsc4py amd64 3.7.0-3build2 [719 kB]\n",
            "Get:62 http://archive.ubuntu.com/ubuntu bionic/universe amd64 python3-slepc4py amd64 3.7.0-3build1 [155 kB]\n",
            "Get:63 http://archive.ubuntu.com/ubuntu bionic/universe amd64 python3-pkgconfig all 1.3.1-1 [6,328 B]\n",
            "Get:64 http://archive.ubuntu.com/ubuntu bionic/universe amd64 libtet1.5 amd64 1.5.0-4 [235 kB]\n",
            "Get:65 http://ppa.launchpad.net/fenics-packages/fenics/ubuntu bionic/main amd64 python3-ffc all 2019.1.0.post0-1~ppa1~bionic1 [224 kB]\n",
            "Get:66 http://archive.ubuntu.com/ubuntu bionic/universe amd64 libproj-dev amd64 4.9.3-2 [199 kB]\n",
            "Get:67 http://ppa.launchpad.net/fenics-packages/fenics/ubuntu bionic/main amd64 libdolfin-dev amd64 2019.1.0-1~ppa1~bionic4 [201 kB]\n",
            "Get:68 http://ppa.launchpad.net/fenics-packages/fenics/ubuntu bionic/main amd64 pybind11-dev all 2.2.3-1fenics1bionic1 [129 kB]\n",
            "Get:69 http://ppa.launchpad.net/fenics-packages/fenics/ubuntu bionic/main amd64 python3-pybind11 all 2.2.3-1fenics1bionic1 [21.5 kB]\n",
            "Get:70 http://ppa.launchpad.net/fenics-packages/fenics/ubuntu bionic/main amd64 python3-dolfin amd64 2019.1.0-1~ppa1~bionic4 [706 kB]\n",
            "Get:71 http://ppa.launchpad.net/fenics-packages/fenics/ubuntu bionic/main amd64 dolfin-bin all 2019.1.0-1~ppa1~bionic4 [22.2 kB]\n",
            "Get:72 http://ppa.launchpad.net/fenics-packages/fenics/ubuntu bionic/main amd64 dolfin-doc all 2019.1.0-1~ppa1~bionic4 [5,780 kB]\n",
            "Get:73 http://ppa.launchpad.net/fenics-packages/fenics/ubuntu bionic/main amd64 python-ufl-doc all 2019.1.0-1~ppa1~bionic1 [13.7 kB]\n",
            "Get:74 http://ppa.launchpad.net/fenics-packages/fenics/ubuntu bionic/main amd64 libmshr2019.1 amd64 2019.1.0+full1-1~ppa1~bionic1 [1,464 kB]\n",
            "Get:75 http://ppa.launchpad.net/fenics-packages/fenics/ubuntu bionic/main amd64 libmshr-dev amd64 2019.1.0+full1-1~ppa1~bionic1 [61.8 kB]\n",
            "Get:76 http://ppa.launchpad.net/fenics-packages/fenics/ubuntu bionic/main amd64 python3-mshr amd64 2019.1.0+full1-1~ppa1~bionic1 [89.9 kB]\n",
            "Get:77 http://ppa.launchpad.net/fenics-packages/fenics/ubuntu bionic/main amd64 fenics amd64 1:2019.1.0.1~ppa1~bionic1 [4,260 B]\n",
            "Fetched 50.6 MB in 8s (6,468 kB/s)\n",
            "Extracting templates from packages: 100%\n",
            "Selecting previously unselected package libsuitesparseconfig5:amd64.\n",
            "(Reading database ... 144429 files and directories currently installed.)\n",
            "Preparing to unpack .../00-libsuitesparseconfig5_1%3a5.1.2-2_amd64.deb ...\n",
            "Unpacking libsuitesparseconfig5:amd64 (1:5.1.2-2) ...\n",
            "Selecting previously unselected package libamd2:amd64.\n",
            "Preparing to unpack .../01-libamd2_1%3a5.1.2-2_amd64.deb ...\n",
            "Unpacking libamd2:amd64 (1:5.1.2-2) ...\n",
            "Selecting previously unselected package libblas3:amd64.\n",
            "Preparing to unpack .../02-libblas3_3.7.1-4ubuntu1_amd64.deb ...\n",
            "Unpacking libblas3:amd64 (3.7.1-4ubuntu1) ...\n",
            "Selecting previously unselected package libcamd2:amd64.\n",
            "Preparing to unpack .../03-libcamd2_1%3a5.1.2-2_amd64.deb ...\n",
            "Unpacking libcamd2:amd64 (1:5.1.2-2) ...\n",
            "Selecting previously unselected package libccolamd2:amd64.\n",
            "Preparing to unpack .../04-libccolamd2_1%3a5.1.2-2_amd64.deb ...\n",
            "Unpacking libccolamd2:amd64 (1:5.1.2-2) ...\n",
            "Selecting previously unselected package libcolamd2:amd64.\n",
            "Preparing to unpack .../05-libcolamd2_1%3a5.1.2-2_amd64.deb ...\n",
            "Unpacking libcolamd2:amd64 (1:5.1.2-2) ...\n",
            "Selecting previously unselected package libmetis5:amd64.\n",
            "Preparing to unpack .../06-libmetis5_5.1.0.dfsg-5_amd64.deb ...\n",
            "Unpacking libmetis5:amd64 (5.1.0.dfsg-5) ...\n",
            "Selecting previously unselected package libcholmod3:amd64.\n",
            "Preparing to unpack .../07-libcholmod3_1%3a5.1.2-2_amd64.deb ...\n",
            "Unpacking libcholmod3:amd64 (1:5.1.2-2) ...\n",
            "Selecting previously unselected package libfftw3-long3:amd64.\n",
            "Preparing to unpack .../08-libfftw3-long3_3.3.7-1_amd64.deb ...\n",
            "Unpacking libfftw3-long3:amd64 (3.3.7-1) ...\n",
            "Selecting previously unselected package libfftw3-single3:amd64.\n",
            "Preparing to unpack .../09-libfftw3-single3_3.3.7-1_amd64.deb ...\n",
            "Unpacking libfftw3-single3:amd64 (3.3.7-1) ...\n",
            "Selecting previously unselected package libfftw3-mpi3:amd64.\n",
            "Preparing to unpack .../10-libfftw3-mpi3_3.3.7-1_amd64.deb ...\n",
            "Unpacking libfftw3-mpi3:amd64 (3.3.7-1) ...\n",
            "Selecting previously unselected package libscotch-6.0.\n",
            "Preparing to unpack .../11-libscotch-6.0_6.0.4.dfsg1-8_amd64.deb ...\n",
            "Unpacking libscotch-6.0 (6.0.4.dfsg1-8) ...\n",
            "Selecting previously unselected package libptscotch-6.0.\n",
            "Preparing to unpack .../12-libptscotch-6.0_6.0.4.dfsg1-8_amd64.deb ...\n",
            "Unpacking libptscotch-6.0 (6.0.4.dfsg1-8) ...\n",
            "Selecting previously unselected package libsuperlu-dist5.\n",
            "Preparing to unpack .../13-libsuperlu-dist5_5.3.0+dfsg1-1_amd64.deb ...\n",
            "Unpacking libsuperlu-dist5 (5.3.0+dfsg1-1) ...\n",
            "Selecting previously unselected package libhypre-2.13.0:amd64.\n",
            "Preparing to unpack .../14-libhypre-2.13.0_2.13.0-2_amd64.deb ...\n",
            "Unpacking libhypre-2.13.0:amd64 (2.13.0-2) ...\n",
            "Selecting previously unselected package libbtf1:amd64.\n",
            "Preparing to unpack .../15-libbtf1_1%3a5.1.2-2_amd64.deb ...\n",
            "Unpacking libbtf1:amd64 (1:5.1.2-2) ...\n",
            "Selecting previously unselected package libklu1:amd64.\n",
            "Preparing to unpack .../16-libklu1_1%3a5.1.2-2_amd64.deb ...\n",
            "Unpacking libklu1:amd64 (1:5.1.2-2) ...\n",
            "Selecting previously unselected package libscalapack-openmpi2.0.\n",
            "Preparing to unpack .../17-libscalapack-openmpi2.0_2.0.2-4_amd64.deb ...\n",
            "Unpacking libscalapack-openmpi2.0 (2.0.2-4) ...\n",
            "Selecting previously unselected package libmumps-5.1.2:amd64.\n",
            "Preparing to unpack .../18-libmumps-5.1.2_5.1.2-4_amd64.deb ...\n",
            "Unpacking libmumps-5.1.2:amd64 (5.1.2-4) ...\n",
            "Selecting previously unselected package libumfpack5:amd64.\n",
            "Preparing to unpack .../19-libumfpack5_1%3a5.1.2-2_amd64.deb ...\n",
            "Unpacking libumfpack5:amd64 (1:5.1.2-2) ...\n",
            "Selecting previously unselected package libpetsc3.7.7:amd64.\n",
            "Preparing to unpack .../20-libpetsc3.7.7_3.7.7+dfsg1-2build5_amd64.deb ...\n",
            "Unpacking libpetsc3.7.7:amd64 (3.7.7+dfsg1-2build5) ...\n",
            "Selecting previously unselected package libparpack2:amd64.\n",
            "Preparing to unpack .../21-libparpack2_3.5.0+real-2_amd64.deb ...\n",
            "Unpacking libparpack2:amd64 (3.5.0+real-2) ...\n",
            "Selecting previously unselected package libslepc3.7.4.\n",
            "Preparing to unpack .../22-libslepc3.7.4_3.7.4+dfsg1-2build8_amd64.deb ...\n",
            "Unpacking libslepc3.7.4 (3.7.4+dfsg1-2build8) ...\n",
            "Selecting previously unselected package libdolfin2019.1:amd64.\n",
            "Preparing to unpack .../23-libdolfin2019.1_2019.1.0-1~ppa1~bionic4_amd64.deb ...\n",
            "Unpacking libdolfin2019.1:amd64 (2019.1.0-1~ppa1~bionic4) ...\n",
            "Selecting previously unselected package libeigen3-dev.\n",
            "Preparing to unpack .../24-libeigen3-dev_3.3.4-4_all.deb ...\n",
            "Unpacking libeigen3-dev (3.3.4-4) ...\n",
            "Selecting previously unselected package libhdf5-openmpi-dev.\n",
            "Preparing to unpack .../25-libhdf5-openmpi-dev_1.10.0-patch1+docs-4_amd64.deb ...\n",
            "Unpacking libhdf5-openmpi-dev (1.10.0-patch1+docs-4) ...\n",
            "Selecting previously unselected package libhdf5-mpi-dev.\n",
            "Preparing to unpack .../26-libhdf5-mpi-dev_1.10.0-patch1+docs-4_amd64.deb ...\n",
            "Unpacking libhdf5-mpi-dev (1.10.0-patch1+docs-4) ...\n",
            "Selecting previously unselected package libcxsparse3:amd64.\n",
            "Preparing to unpack .../27-libcxsparse3_1%3a5.1.2-2_amd64.deb ...\n",
            "Unpacking libcxsparse3:amd64 (1:5.1.2-2) ...\n",
            "Selecting previously unselected package libgraphblas1:amd64.\n",
            "Preparing to unpack .../28-libgraphblas1_1%3a5.1.2-2_amd64.deb ...\n",
            "Unpacking libgraphblas1:amd64 (1:5.1.2-2) ...\n",
            "Selecting previously unselected package libldl2:amd64.\n",
            "Preparing to unpack .../29-libldl2_1%3a5.1.2-2_amd64.deb ...\n",
            "Unpacking libldl2:amd64 (1:5.1.2-2) ...\n",
            "Selecting previously unselected package librbio2:amd64.\n",
            "Preparing to unpack .../30-librbio2_1%3a5.1.2-2_amd64.deb ...\n",
            "Unpacking librbio2:amd64 (1:5.1.2-2) ...\n",
            "Selecting previously unselected package libspqr2:amd64.\n",
            "Preparing to unpack .../31-libspqr2_1%3a5.1.2-2_amd64.deb ...\n",
            "Unpacking libspqr2:amd64 (1:5.1.2-2) ...\n",
            "Selecting previously unselected package libblas-dev:amd64.\n",
            "Preparing to unpack .../32-libblas-dev_3.7.1-4ubuntu1_amd64.deb ...\n",
            "Unpacking libblas-dev:amd64 (3.7.1-4ubuntu1) ...\n",
            "Selecting previously unselected package libsuitesparse-dev:amd64.\n",
            "Preparing to unpack .../33-libsuitesparse-dev_1%3a5.1.2-2_amd64.deb ...\n",
            "Unpacking libsuitesparse-dev:amd64 (1:5.1.2-2) ...\n",
            "Selecting previously unselected package libscotch-dev.\n",
            "Preparing to unpack .../34-libscotch-dev_6.0.4.dfsg1-8_amd64.deb ...\n",
            "Unpacking libscotch-dev (6.0.4.dfsg1-8) ...\n",
            "Selecting previously unselected package python3-mpmath.\n",
            "Preparing to unpack .../35-python3-mpmath_1.0.0-1_all.deb ...\n",
            "Unpacking python3-mpmath (1.0.0-1) ...\n",
            "Selecting previously unselected package python3-sympy.\n",
            "Preparing to unpack .../36-python3-sympy_1.1.1-5_all.deb ...\n",
            "Unpacking python3-sympy (1.1.1-5) ...\n",
            "Selecting previously unselected package python3-pkg-resources.\n",
            "Preparing to unpack .../37-python3-pkg-resources_39.0.1-2_all.deb ...\n",
            "Unpacking python3-pkg-resources (39.0.1-2) ...\n",
            "Selecting previously unselected package python3-fiat.\n",
            "Preparing to unpack .../38-python3-fiat_2019.1.0-1~ppa1~bionic1_all.deb ...\n",
            "Unpacking python3-fiat (2019.1.0-1~ppa1~bionic1) ...\n",
            "Selecting previously unselected package python3-ufl.\n",
            "Preparing to unpack .../39-python3-ufl_2019.1.0-1~ppa1~bionic1_all.deb ...\n",
            "Unpacking python3-ufl (2019.1.0-1~ppa1~bionic1) ...\n",
            "Selecting previously unselected package python3-mpi4py.\n",
            "Preparing to unpack .../40-python3-mpi4py_2.0.0-3_amd64.deb ...\n",
            "Unpacking python3-mpi4py (2.0.0-3) ...\n",
            "Selecting previously unselected package python3-dijitso.\n",
            "Preparing to unpack .../41-python3-dijitso_2019.1.0-1~ppa1~bionic1_all.deb ...\n",
            "Unpacking python3-dijitso (2019.1.0-1~ppa1~bionic1) ...\n",
            "Selecting previously unselected package python3-ffc.\n",
            "Preparing to unpack .../42-python3-ffc_2019.1.0.post0-1~ppa1~bionic1_all.deb ...\n",
            "Unpacking python3-ffc (2019.1.0.post0-1~ppa1~bionic1) ...\n",
            "Selecting previously unselected package libspooles2.2:amd64.\n",
            "Preparing to unpack .../43-libspooles2.2_2.2-12build1_amd64.deb ...\n",
            "Unpacking libspooles2.2:amd64 (2.2-12build1) ...\n",
            "Selecting previously unselected package libspooles-dev:amd64.\n",
            "Preparing to unpack .../44-libspooles-dev_2.2-12build1_amd64.deb ...\n",
            "Unpacking libspooles-dev:amd64 (2.2-12build1) ...\n",
            "Selecting previously unselected package libsuperlu-dev:amd64.\n",
            "Preparing to unpack .../45-libsuperlu-dev_5.2.1+dfsg1-3_amd64.deb ...\n",
            "Unpacking libsuperlu-dev:amd64 (5.2.1+dfsg1-3) ...\n",
            "Selecting previously unselected package libhypre-dev:amd64.\n",
            "Preparing to unpack .../46-libhypre-dev_2.13.0-2_amd64.deb ...\n",
            "Unpacking libhypre-dev:amd64 (2.13.0-2) ...\n",
            "Selecting previously unselected package libptscotch-dev.\n",
            "Preparing to unpack .../47-libptscotch-dev_6.0.4.dfsg1-8_amd64.deb ...\n",
            "Unpacking libptscotch-dev (6.0.4.dfsg1-8) ...\n",
            "Selecting previously unselected package libscalapack-openmpi-dev.\n",
            "Preparing to unpack .../48-libscalapack-openmpi-dev_2.0.2-4_amd64.deb ...\n",
            "Unpacking libscalapack-openmpi-dev (2.0.2-4) ...\n",
            "Selecting previously unselected package libscalapack-mpi-dev.\n",
            "Preparing to unpack .../49-libscalapack-mpi-dev_2.0.2-4_amd64.deb ...\n",
            "Unpacking libscalapack-mpi-dev (2.0.2-4) ...\n",
            "Selecting previously unselected package libmumps-dev:amd64.\n",
            "Preparing to unpack .../50-libmumps-dev_5.1.2-4_amd64.deb ...\n",
            "Unpacking libmumps-dev:amd64 (5.1.2-4) ...\n",
            "Selecting previously unselected package libfftw3-quad3:amd64.\n",
            "Preparing to unpack .../51-libfftw3-quad3_3.3.7-1_amd64.deb ...\n",
            "Unpacking libfftw3-quad3:amd64 (3.3.7-1) ...\n",
            "Selecting previously unselected package libfftw3-bin.\n",
            "Preparing to unpack .../52-libfftw3-bin_3.3.7-1_amd64.deb ...\n",
            "Unpacking libfftw3-bin (3.3.7-1) ...\n",
            "Selecting previously unselected package libfftw3-dev:amd64.\n",
            "Preparing to unpack .../53-libfftw3-dev_3.3.7-1_amd64.deb ...\n",
            "Unpacking libfftw3-dev:amd64 (3.3.7-1) ...\n",
            "Selecting previously unselected package libfftw3-mpi-dev:amd64.\n",
            "Preparing to unpack .../54-libfftw3-mpi-dev_3.3.7-1_amd64.deb ...\n",
            "Unpacking libfftw3-mpi-dev:amd64 (3.3.7-1) ...\n",
            "Selecting previously unselected package libpetsc3.7.7-dev:amd64.\n",
            "Preparing to unpack .../55-libpetsc3.7.7-dev_3.7.7+dfsg1-2build5_amd64.deb ...\n",
            "Unpacking libpetsc3.7.7-dev:amd64 (3.7.7+dfsg1-2build5) ...\n",
            "Selecting previously unselected package libarpack2-dev:amd64.\n",
            "Preparing to unpack .../56-libarpack2-dev_3.5.0+real-2_amd64.deb ...\n",
            "Unpacking libarpack2-dev:amd64 (3.5.0+real-2) ...\n",
            "Selecting previously unselected package libparpack2-dev:amd64.\n",
            "Preparing to unpack .../57-libparpack2-dev_3.5.0+real-2_amd64.deb ...\n",
            "Unpacking libparpack2-dev:amd64 (3.5.0+real-2) ...\n",
            "Selecting previously unselected package libslepc3.7.4-dev.\n",
            "Preparing to unpack .../58-libslepc3.7.4-dev_3.7.4+dfsg1-2build8_amd64.deb ...\n",
            "Unpacking libslepc3.7.4-dev (3.7.4+dfsg1-2build8) ...\n",
            "Selecting previously unselected package libdolfin-dev.\n",
            "Preparing to unpack .../59-libdolfin-dev_2019.1.0-1~ppa1~bionic4_amd64.deb ...\n",
            "Unpacking libdolfin-dev (2019.1.0-1~ppa1~bionic4) ...\n",
            "Selecting previously unselected package python3-ply.\n",
            "Preparing to unpack .../60-python3-ply_3.11-1_all.deb ...\n",
            "Unpacking python3-ply (3.11-1) ...\n",
            "Selecting previously unselected package pybind11-dev.\n",
            "Preparing to unpack .../61-pybind11-dev_2.2.3-1fenics1bionic1_all.deb ...\n",
            "Unpacking pybind11-dev (2.2.3-1fenics1bionic1) ...\n",
            "Selecting previously unselected package python3-pybind11.\n",
            "Preparing to unpack .../62-python3-pybind11_2.2.3-1fenics1bionic1_all.deb ...\n",
            "Unpacking python3-pybind11 (2.2.3-1fenics1bionic1) ...\n",
            "Selecting previously unselected package python3-six.\n",
            "Preparing to unpack .../63-python3-six_1.11.0-2_all.deb ...\n",
            "Unpacking python3-six (1.11.0-2) ...\n",
            "Selecting previously unselected package python3-petsc4py.\n",
            "Preparing to unpack .../64-python3-petsc4py_3.7.0-3build2_amd64.deb ...\n",
            "Unpacking python3-petsc4py (3.7.0-3build2) ...\n",
            "Selecting previously unselected package python3-slepc4py.\n",
            "Preparing to unpack .../65-python3-slepc4py_3.7.0-3build1_amd64.deb ...\n",
            "Unpacking python3-slepc4py (3.7.0-3build1) ...\n",
            "Selecting previously unselected package python3-pkgconfig.\n",
            "Preparing to unpack .../66-python3-pkgconfig_1.3.1-1_all.deb ...\n",
            "Unpacking python3-pkgconfig (1.3.1-1) ...\n",
            "Selecting previously unselected package python3-dolfin.\n",
            "Preparing to unpack .../67-python3-dolfin_2019.1.0-1~ppa1~bionic4_amd64.deb ...\n",
            "Unpacking python3-dolfin (2019.1.0-1~ppa1~bionic4) ...\n",
            "Selecting previously unselected package dolfin-bin.\n",
            "Preparing to unpack .../68-dolfin-bin_2019.1.0-1~ppa1~bionic4_all.deb ...\n",
            "Unpacking dolfin-bin (2019.1.0-1~ppa1~bionic4) ...\n",
            "Selecting previously unselected package dolfin-doc.\n",
            "Preparing to unpack .../69-dolfin-doc_2019.1.0-1~ppa1~bionic4_all.deb ...\n",
            "Unpacking dolfin-doc (2019.1.0-1~ppa1~bionic4) ...\n",
            "Selecting previously unselected package python-ufl-doc.\n",
            "Preparing to unpack .../70-python-ufl-doc_2019.1.0-1~ppa1~bionic1_all.deb ...\n",
            "Unpacking python-ufl-doc (2019.1.0-1~ppa1~bionic1) ...\n",
            "Selecting previously unselected package libtet1.5:amd64.\n",
            "Preparing to unpack .../71-libtet1.5_1.5.0-4_amd64.deb ...\n",
            "Unpacking libtet1.5:amd64 (1.5.0-4) ...\n",
            "Selecting previously unselected package libmshr2019.1:amd64.\n",
            "Preparing to unpack .../72-libmshr2019.1_2019.1.0+full1-1~ppa1~bionic1_amd64.deb ...\n",
            "Unpacking libmshr2019.1:amd64 (2019.1.0+full1-1~ppa1~bionic1) ...\n",
            "Selecting previously unselected package libproj-dev:amd64.\n",
            "Preparing to unpack .../73-libproj-dev_4.9.3-2_amd64.deb ...\n",
            "Unpacking libproj-dev:amd64 (4.9.3-2) ...\n",
            "Selecting previously unselected package libmshr-dev.\n",
            "Preparing to unpack .../74-libmshr-dev_2019.1.0+full1-1~ppa1~bionic1_amd64.deb ...\n",
            "Unpacking libmshr-dev (2019.1.0+full1-1~ppa1~bionic1) ...\n",
            "Selecting previously unselected package python3-mshr.\n",
            "Preparing to unpack .../75-python3-mshr_2019.1.0+full1-1~ppa1~bionic1_amd64.deb ...\n",
            "Unpacking python3-mshr (2019.1.0+full1-1~ppa1~bionic1) ...\n",
            "Selecting previously unselected package fenics:amd64.\n",
            "Preparing to unpack .../76-fenics_1%3a2019.1.0.1~ppa1~bionic1_amd64.deb ...\n",
            "Unpacking fenics:amd64 (1:2019.1.0.1~ppa1~bionic1) ...\n",
            "Setting up python3-pkgconfig (1.3.1-1) ...\n",
            "Setting up libbtf1:amd64 (1:5.1.2-2) ...\n",
            "Setting up libldl2:amd64 (1:5.1.2-2) ...\n",
            "Setting up libscotch-6.0 (6.0.4.dfsg1-8) ...\n",
            "Setting up libcxsparse3:amd64 (1:5.1.2-2) ...\n",
            "Setting up libproj-dev:amd64 (4.9.3-2) ...\n",
            "Setting up python-ufl-doc (2019.1.0-1~ppa1~bionic1) ...\n",
            "Setting up libtet1.5:amd64 (1.5.0-4) ...\n",
            "Setting up libscalapack-openmpi2.0 (2.0.2-4) ...\n",
            "Setting up libeigen3-dev (3.3.4-4) ...\n",
            "Setting up libgraphblas1:amd64 (1:5.1.2-2) ...\n",
            "Setting up python3-six (1.11.0-2) ...\n",
            "Setting up libptscotch-6.0 (6.0.4.dfsg1-8) ...\n",
            "Setting up libparpack2:amd64 (3.5.0+real-2) ...\n",
            "Setting up libspooles2.2:amd64 (2.2-12build1) ...\n",
            "Setting up python3-pkg-resources (39.0.1-2) ...\n",
            "Setting up python3-mpmath (1.0.0-1) ...\n",
            "Setting up python3-ufl (2019.1.0-1~ppa1~bionic1) ...\n",
            "Setting up libscalapack-openmpi-dev (2.0.2-4) ...\n",
            "Setting up libhdf5-openmpi-dev (1.10.0-patch1+docs-4) ...\n",
            "update-alternatives: using /usr/bin/h5pcc.openmpi to provide /usr/bin/h5pcc (h5pcc) in auto mode\n",
            "Setting up libfftw3-quad3:amd64 (3.3.7-1) ...\n",
            "Setting up libblas3:amd64 (3.7.1-4ubuntu1) ...\n",
            "Setting up libscotch-dev (6.0.4.dfsg1-8) ...\n",
            "Setting up libsuperlu-dist5 (5.3.0+dfsg1-1) ...\n",
            "Setting up libsuitesparseconfig5:amd64 (1:5.1.2-2) ...\n",
            "Setting up libmetis5:amd64 (5.1.0.dfsg-5) ...\n",
            "Setting up pybind11-dev (2.2.3-1fenics1bionic1) ...\n",
            "Setting up libcolamd2:amd64 (1:5.1.2-2) ...\n",
            "Setting up libarpack2-dev:amd64 (3.5.0+real-2) ...\n",
            "Setting up libccolamd2:amd64 (1:5.1.2-2) ...\n",
            "Setting up libfftw3-single3:amd64 (3.3.7-1) ...\n",
            "Setting up python3-mpi4py (2.0.0-3) ...\n",
            "Setting up python3-ply (3.11-1) ...\n",
            "Setting up python3-sympy (1.1.1-5) ...\n",
            "Setting up libspooles-dev:amd64 (2.2-12build1) ...\n",
            "Setting up libfftw3-long3:amd64 (3.3.7-1) ...\n",
            "Setting up python3-pybind11 (2.2.3-1fenics1bionic1) ...\n",
            "Setting up python3-fiat (2019.1.0-1~ppa1~bionic1) ...\n",
            "Setting up libparpack2-dev:amd64 (3.5.0+real-2) ...\n",
            "Setting up libfftw3-bin (3.3.7-1) ...\n",
            "Setting up libmumps-5.1.2:amd64 (5.1.2-4) ...\n",
            "Setting up libptscotch-dev (6.0.4.dfsg1-8) ...\n",
            "Setting up libblas-dev:amd64 (3.7.1-4ubuntu1) ...\n",
            "Setting up libscalapack-mpi-dev (2.0.2-4) ...\n",
            "Setting up libhypre-2.13.0:amd64 (2.13.0-2) ...\n",
            "Setting up librbio2:amd64 (1:5.1.2-2) ...\n",
            "Setting up libcamd2:amd64 (1:5.1.2-2) ...\n",
            "Setting up libfftw3-mpi3:amd64 (3.3.7-1) ...\n",
            "Setting up libmumps-dev:amd64 (5.1.2-4) ...\n",
            "Setting up python3-dijitso (2019.1.0-1~ppa1~bionic1) ...\n",
            "Setting up libhdf5-mpi-dev (1.10.0-patch1+docs-4) ...\n",
            "Setting up libamd2:amd64 (1:5.1.2-2) ...\n",
            "Setting up libsuperlu-dev:amd64 (5.2.1+dfsg1-3) ...\n",
            "Setting up libfftw3-dev:amd64 (3.3.7-1) ...\n",
            "Setting up python3-ffc (2019.1.0.post0-1~ppa1~bionic1) ...\n",
            "update-alternatives: using /usr/lib/python3/dist-packages/ffc/backends/ufc/ufc.h to provide /usr/include/ufc.h (ufc.h) in auto mode\n",
            "Setting up libfftw3-mpi-dev:amd64 (3.3.7-1) ...\n",
            "Setting up libhypre-dev:amd64 (2.13.0-2) ...\n",
            "Setting up libklu1:amd64 (1:5.1.2-2) ...\n",
            "Setting up libcholmod3:amd64 (1:5.1.2-2) ...\n",
            "Setting up libspqr2:amd64 (1:5.1.2-2) ...\n",
            "Setting up libumfpack5:amd64 (1:5.1.2-2) ...\n",
            "Setting up libpetsc3.7.7:amd64 (3.7.7+dfsg1-2build5) ...\n",
            "update-alternatives: using /usr/lib/x86_64-linux-gnu/libpetsc_real.so.3.7.7 to provide /usr/lib/x86_64-linux-gnu/libpetsc.so.3.7 (libpetsc.so.3.7) in auto mode\n",
            "update-alternatives: using /usr/lib/x86_64-linux-gnu/libpetsc_real.so.3.7.7 to provide /usr/lib/x86_64-linux-gnu/libpetsc_real.so.3.7 (libpetsc_real.so.3.7) in auto mode\n",
            "Setting up python3-petsc4py (3.7.0-3build2) ...\n",
            "Setting up libsuitesparse-dev:amd64 (1:5.1.2-2) ...\n",
            "Setting up libpetsc3.7.7-dev:amd64 (3.7.7+dfsg1-2build5) ...\n",
            "update-alternatives: error: no alternatives for petsc\n",
            "update-alternatives: using /usr/lib/petscdir/3.7.7/x86_64-linux-gnu-real to provide /usr/lib/petsc (petsc) in auto mode\n",
            "update-alternatives: using /usr/lib/x86_64-linux-gnu/libpetsc_real.so.3.7.7 to provide /usr/lib/x86_64-linux-gnu/libpetsc_real.so (libpetsc_real.so) in auto mode\n",
            "update-alternatives: using /usr/lib/petscdir/3.7.7/x86_64-linux-gnu-real to provide /usr/lib/petscdir/3.7 (petsc3.7) in auto mode\n",
            "update-alternatives: using /usr/lib/petscdir/3.7.7/x86_64-linux-gnu-real to provide /usr/lib/petscdir/3.7-real (petsc3.7-real) in auto mode\n",
            "Setting up libslepc3.7.4 (3.7.4+dfsg1-2build8) ...\n",
            "update-alternatives: using /usr/lib/x86_64-linux-gnu/libslepc_real.so.3.7.4 to provide /usr/lib/x86_64-linux-gnu/libslepc.so.3.7 (libslepc.so.3.7) in auto mode\n",
            "update-alternatives: using /usr/lib/x86_64-linux-gnu/libslepc_real.so.3.7.4 to provide /usr/lib/x86_64-linux-gnu/libslepc_real.so.3.7 (libslepc_real.so.3.7) in auto mode\n",
            "Setting up python3-slepc4py (3.7.0-3build1) ...\n",
            "Setting up libslepc3.7.4-dev (3.7.4+dfsg1-2build8) ...\n",
            "update-alternatives: error: no alternatives for slepc\n",
            "update-alternatives: using /usr/lib/slepcdir/3.7.4/x86_64-linux-gnu-real to provide /usr/lib/slepc (slepc) in auto mode\n",
            "update-alternatives: using /usr/lib/x86_64-linux-gnu/libslepc_real.so.3.7.4 to provide /usr/lib/x86_64-linux-gnu/libslepc_real.so (libslepc_real.so) in auto mode\n",
            "update-alternatives: using /usr/lib/slepcdir/3.7.4/x86_64-linux-gnu-real to provide /usr/lib/slepcdir/3.7 (slepc3.7) in auto mode\n",
            "update-alternatives: using /usr/lib/slepcdir/3.7.4/x86_64-linux-gnu-real to provide /usr/lib/slepcdir/3.7-real (slepc3.7-real) in auto mode\n",
            "Setting up libdolfin2019.1:amd64 (2019.1.0-1~ppa1~bionic4) ...\n",
            "Setting up libdolfin-dev (2019.1.0-1~ppa1~bionic4) ...\n",
            "Setting up libmshr2019.1:amd64 (2019.1.0+full1-1~ppa1~bionic1) ...\n",
            "Setting up python3-dolfin (2019.1.0-1~ppa1~bionic4) ...\n",
            "Setting up dolfin-doc (2019.1.0-1~ppa1~bionic4) ...\n",
            "Setting up libmshr-dev (2019.1.0+full1-1~ppa1~bionic1) ...\n",
            "Setting up dolfin-bin (2019.1.0-1~ppa1~bionic4) ...\n",
            "Setting up python3-mshr (2019.1.0+full1-1~ppa1~bionic1) ...\n",
            "Setting up fenics:amd64 (1:2019.1.0.1~ppa1~bionic1) ...\n",
            "Processing triggers for man-db (2.8.3-2ubuntu0.1) ...\n",
            "Processing triggers for libc-bin (2.27-3ubuntu1) ...\n",
            "/sbin/ldconfig.real: /usr/local/lib/python3.6/dist-packages/ideep4py/lib/libmkldnn.so.0 is not a symbolic link\n",
            "\n"
          ],
          "name": "stdout"
        }
      ]
    },
    {
      "cell_type": "markdown",
      "metadata": {
        "id": "gnO3lhAigLev",
        "colab_type": "text"
      },
      "source": [
        "# **Introduction**"
      ]
    },
    {
      "cell_type": "markdown",
      "metadata": {
        "id": "l5zMzgPlRAF6",
        "colab_type": "text"
      },
      "source": [
        "The Stokes equations take the form\n",
        "\n",
        "$\\nabla p -\\Delta u = f,\\quad \\nabla \\cdot u=0$\n",
        "\n",
        "together with suitable boundary conditions.\n",
        "\n",
        "Here we present a FEniCS implementation of a mixed finite element method to solve the Stokes equations in 2D. The solution is visualized using FEniCS plotting functions, and is also exported as pvd-files which can be visualized in Paraview.\n",
        "\n",
        "To derive the weak form of the equations, multiply the momentum equation by $v\\in V$ and the continuity equation by $q\\in Q$, and then integrate over the domain $\\Omega$ and use Green's formula\n",
        "$\n",
        "(\\nabla p -\\Delta u,v) = -(p,\\nabla \\cdot v) + (\\nabla u, \\nabla v) \n",
        "+ <pn - \\nabla u\\cdot n, v>_{\\Gamma}\n",
        "$\n",
        "\n",
        "We seek a finite element approximation $(u,p)\\in V\\times Q$ such that \n",
        "\n",
        "$- (p,\\nabla \\cdot v) + (\\nabla u,\\nabla v) + (\\nabla \\cdot u, q) \n",
        "+ <pn - \\nabla u\\cdot n, v>_{\\partial \\Omega} = (f,v)$\n",
        "\n",
        "for all test functions $(v,q) \\in V\\times Q$. \n",
        "\n",
        "$\n",
        "(v,w) = \\int_{\\Omega} v\\cdot w ~dx, \\quad \n",
        "<v,w>_{\\partial \\Omega} = \\int_{\\partial \\Omega} v\\cdot w~ds\n",
        "$\n",
        "\n",
        "We divide the boundary into $\\partial \\Omega=\\Gamma_D \\cup \\Gamma_N$, with the different boundary conditions\n",
        "\n",
        "$\n",
        "u = g_D,\\quad x\\in \\Gamma_D,\n",
        "$\n",
        "\n",
        "$\n",
        "-\\nu \\nabla u\\cdot n + pn = g_N, \\quad x\\in \\Gamma_N,\n",
        "$\n",
        "\n",
        "For $x\\in \\Gamma_D$ the test function $v=0$. Hence, with $g_N=0$ the boundary term is zero. \n",
        "\n",
        "The equations can be expressed in residual form\n",
        "\n",
        "$r(u,p;v,q) = - (p,\\nabla \\cdot v) + (\\nabla u,\\nabla v) + (\\nabla \\cdot u, q) - (f,v)$\n",
        "\n",
        "We use inf-sup stable Taylor-Hood approximation spaces, \n",
        "and to implement the velocity boundary conditions we use a penalty formulation, with a penalty parameter $\\gamma = C/h$, with $C>0$ a constant and $h$ the local mesh size. At outflow we use a \"do nothing\" stress free boundary condition. \n"
      ]
    },
    {
      "cell_type": "markdown",
      "metadata": {
        "id": "jOQvukXZq5U5",
        "colab_type": "text"
      },
      "source": [
        "# **Method**"
      ]
    },
    {
      "cell_type": "markdown",
      "metadata": {
        "id": "wu2fugJ32t8m",
        "colab_type": "text"
      },
      "source": [
        "**Define domain and mesh**"
      ]
    },
    {
      "cell_type": "code",
      "metadata": {
        "id": "zAtVmoZ8jekA",
        "colab_type": "code",
        "colab": {}
      },
      "source": [
        "def grid():\n",
        "  domain = Rectangle(Point(0,0), Point(L,H)) - Rectangle(Point(1.57,1.57), Point(10.43,10.43))\n",
        "\n",
        "  for i in range (1,4):\n",
        "    a = 1.57+i*((8.86+0.8)/4)\n",
        "    domain += Rectangle(Point(a-0.8,1), Point(a,11))\n",
        "    domain += Rectangle(Point(1,a-0.8), Point(11,a))\n",
        "\n",
        "  # domain += Rectangle(Point(0,5), Point(12,5.5))\n",
        "  \n",
        "  return domain\n",
        "\n",
        "def skewed():\n",
        "  domain = Rectangle(Point(0,0), Point(12,12))\n",
        "  alpha = math.radians(35)\n",
        "  str_w = 0.6\n",
        "  shape_w = 1.2\n",
        "  shape_h = shape_w*tan(alpha)\n",
        "  dhor= str_w/(cos(alpha)*sin(alpha))\n",
        "  dver = str_w/(2*cos(alpha))\n",
        "  print(shape_h)\n",
        "  for i in range (0,7):\n",
        "    a = 2.5\n",
        "    b = 1.57+i*(shape_h+dver)\n",
        "    if (i%2 == 0):\n",
        "        num_shapes = 3\n",
        "    else:\n",
        "        num_shapes = 2\n",
        "        a += (shape_w+dhor/2)\n",
        "    for j in range(0,num_shapes):\n",
        "      domain -= Polygon([Point(a,b),Point(a+shape_w,b+shape_h),Point(a,b+2*shape_h),Point(a-shape_w,b+shape_h)])\n",
        "      a += 2*shape_w + dhor\n",
        "  \n",
        "  \n",
        "  # domain += (Rectangle(Point(0,0), Point(L,H)) - Rectangle(Point(1,1), Point(11,11)))\n",
        "  # domain -= (Rectangle(Point(0,-5.5),Point(12,0)))\n",
        "  # domain -= (Rectangle(Point(0,12), Point(12,20)))\n",
        "  return domain\n",
        "\n",
        "# domain = skewed()\n",
        "\n",
        "\n",
        "def concentric():\n",
        "  domain = Rectangle(Point(0,0), Point(L,H))\n",
        "  \n",
        "  for i in range (0,12):\n",
        "    alpha = i*2*pi/12\n",
        "    beta = (i+1)*2*pi/12#-(0.2*6)\n",
        "    domain -= Polygon([Point(6+5*cos(alpha), 6+5*sin(alpha)),Point(6+5*cos(beta), 6+5*sin(beta)),Point(6+3*cos(beta), 6+3*sin(beta)),Point(6+3*cos(alpha), 6+3*sin(alpha))])\n",
        "\n",
        "  for i in range (0,12):\n",
        "    alpha = i*2*pi/12\n",
        "    dx = cos(alpha-pi/2) * 0.4\n",
        "    dy = sin(alpha-pi/2) * 0.4\n",
        "    domain += Polygon([Point(6+6*cos(alpha)+dx,6+6*sin(alpha)+dy),Point(6+6*cos(alpha)-dx,6+6*sin(alpha)-dy),Point(6-dx,6-dy),Point(6+dx,6+dy)])\n",
        "\n",
        "  domain -= Circle(Point(6,6), 2.0)\n",
        "\n",
        "  for i in range (0,4):\n",
        "    alpha = i*2*pi/4\n",
        "    dx = cos(alpha-pi/2) * 0.4\n",
        "    dy = sin(alpha-pi/2) * 0.4\n",
        "    domain += Polygon([Point(6+2.6*cos(alpha)+dx,6+2.6*sin(alpha)+dy),Point(6+2.6*cos(alpha)-dx,6+2.6*sin(alpha)-dy),Point(6-dx,6-dy),Point(6+dx,6+dy)])\n",
        "\n",
        "  return domain"
      ],
      "execution_count": 0,
      "outputs": []
    },
    {
      "cell_type": "code",
      "metadata": {
        "id": "_KBWOVATuBQz",
        "colab_type": "code",
        "outputId": "4b494b21-8d79-4d80-b90a-c2b56e237546",
        "colab": {
          "base_uri": "https://localhost:8080/",
          "height": 265
        }
      },
      "source": [
        "# Define rectangular domain \n",
        "L = 12\n",
        "H = 12\n",
        "\n",
        "# Define subdomains (for boundary conditions)\n",
        "class Left(SubDomain):\n",
        "    def inside(self, x, on_boundary):\n",
        "        return near(x[0], 0.0) \n",
        "\n",
        "class Right(SubDomain):\n",
        "    def inside(self, x, on_boundary):\n",
        "        return near(x[0], L)\n",
        "\n",
        "class Lower(SubDomain):\n",
        "    def inside(self, x, on_boundary):\n",
        "        return near(x[1], 0.0)\n",
        "\n",
        "class Upper(SubDomain):\n",
        "    def inside(self, x, on_boundary):\n",
        "        return near(x[1], H)\n",
        "\n",
        "class Inlet(SubDomain):\n",
        "    def inside(self, x, on_boundary):\n",
        "        on = near(x[0], 0.0) or near(x[1], 0.0)\n",
        "        return on\n",
        "\n",
        "class Outlet(SubDomain):\n",
        "    def inside(self, x, on_boundary):\n",
        "        on = near(x[0], L) or near(x[1], H)\n",
        "        return on\n",
        "\n",
        "class Building(SubDomain):\n",
        "    def inside(self, x, on_boundary):\n",
        "        on = (on_boundary and not (near(x[0],0.0) or near(x[0], L)\\\n",
        "                                    or near(x[1], 0.0) or near(x[1],H)))\n",
        "        return on\n",
        "      \n",
        "building = Building()\n",
        "inlet_bdry = Inlet()\n",
        "outlet_bdry = Outlet()\n",
        "\n",
        "#files to save meshes\n",
        "saved_grid = File(\"grid.xml\")\n",
        "saved_skewed = File(\"skewed.xml\")\n",
        "saved_circle = File(\"circle.xml\")\n",
        "\n",
        "# Generate mesh (uncomment choice) \n",
        "resolution = 64\n",
        "\n",
        "# grid mesh\n",
        "# try:\n",
        "#   saved_grid >> mesh\n",
        "# except:\n",
        "#   domain = grid()\n",
        "#   mesh = generate_mesh(domain, resolution)\n",
        "#   saved_grid << mesh\n",
        "\n",
        "# skewed mesh\n",
        "# try:\n",
        "#   saved_skewed >> mesh\n",
        "# except:\n",
        "#   domain = skewed()\n",
        "#   mesh = generate_mesh(domain, resolution)\n",
        "#   saved_skewed << mesh\n",
        "\n",
        "# circular mesh\n",
        "try:\n",
        "  saved_circle >> mesh\n",
        "except:\n",
        "  domain = concentric()\n",
        "  mesh = generate_mesh(domain, resolution)\n",
        "  saved_circle << mesh\n",
        "\n",
        "# Local mesh refinement (specified by a cell marker)\n",
        "no_levels = 0\n",
        "for i in range(0,no_levels):\n",
        "  cell_marker = MeshFunction(\"bool\", mesh, mesh.topology().dim())\n",
        "  for cell in cells(mesh):\n",
        "    cell_marker[cell] = False\n",
        "    p = cell.midpoint()\n",
        "    if p.distance(Point(xc, yc)) < 1.0:\n",
        "        cell_marker[cell] = True\n",
        "  mesh = refine(mesh, cell_marker)\n",
        "\n",
        "# Define mesh functions (for boundary conditions)\n",
        "boundaries = MeshFunction(\"size_t\", mesh, mesh.topology().dim()-1)\n",
        "boundaries.set_all(0)\n",
        "inlet_bdry.mark(boundaries, 1)\n",
        "outlet_bdry.mark(boundaries, 2)\n",
        "building.mark(boundaries, 3)\n",
        "\n",
        "# for visualisation of different boundaries\n",
        "# file = File(\"circle/circle.pvd\")\n",
        "# file << boundaries\n",
        "# !tar -czvf circle.tar.gz circle\n",
        "\n",
        "plt.figure()\n",
        "plot(mesh)\n",
        "plt.show()"
      ],
      "execution_count": 4,
      "outputs": [
        {
          "output_type": "display_data",
          "data": {
            "image/png": "[encoded data removed]",
            "text/plain": [
              "<Figure size 432x288 with 1 Axes>"
            ]
          },
          "metadata": {
            "tags": [],
            "needs_background": "light"
          }
        }
      ]
    },
    {
      "cell_type": "markdown",
      "metadata": {
        "id": "-le1iA8u3fS-",
        "colab_type": "text"
      },
      "source": [
        "**Define finite element approximation spaces**"
      ]
    },
    {
      "cell_type": "code",
      "metadata": {
        "id": "uWeyBcYXuaPq",
        "colab_type": "code",
        "colab": {
          "base_uri": "https://localhost:8080/",
          "height": 85
        },
        "outputId": "cf11ea97-c380-434a-bb93-3ca55b3ac404"
      },
      "source": [
        "# Generate mixed finite element spaces (for velocity and pressure)\n",
        "VE = VectorElement(\"CG\", mesh.ufl_cell(), 2)\n",
        "QE = FiniteElement(\"CG\", mesh.ufl_cell(), 1)\n",
        "WE = VE * QE\n",
        "\n",
        "W = FunctionSpace(mesh, WE)\n",
        "V = FunctionSpace(mesh, VE)\n",
        "Q = FunctionSpace(mesh, QE)\n",
        "\n",
        "# Define trial and test functions\n",
        "w = Function(W)\n",
        "(u, p) = (as_vector((w[0],w[1])), w[2])\n",
        "(v, q) = TestFunctions(W) "
      ],
      "execution_count": 5,
      "outputs": [
        {
          "output_type": "stream",
          "text": [
            "Calling FFC just-in-time (JIT) compiler, this may take some time.\n",
            "Calling FFC just-in-time (JIT) compiler, this may take some time.\n",
            "Calling FFC just-in-time (JIT) compiler, this may take some time.\n",
            "Calling FFC just-in-time (JIT) compiler, this may take some time.\n"
          ],
          "name": "stdout"
        }
      ]
    },
    {
      "cell_type": "markdown",
      "metadata": {
        "id": "OKzE7v-B3o9R",
        "colab_type": "text"
      },
      "source": [
        "**Define boundary conditions**"
      ]
    },
    {
      "cell_type": "code",
      "metadata": {
        "id": "WAsDDvdKujQT",
        "colab_type": "code",
        "colab": {}
      },
      "source": [
        "# inflow and outflow conditions\n",
        "XMIN = 0.0; XMAX = L\n",
        "YMIN = 0.0; YMAX = H\n",
        "\n",
        "# define uin of size 1 for different angles: 0, pi/6, pi/3, pi/2\n",
        "angle = pi/2\n",
        "uin_x = cos(angle)\n",
        "uin_y = sin(angle)\n",
        "uin = Expression((\"uin_x\", \"uin_y\"), uin_x=uin_x, uin_y=uin_y, element = V.ufl_element()) \n",
        "#pout = 0.0\n",
        "\n",
        "# Inflow boundary (ib), outflow boundary (ob) and wall boundary (wb)\n",
        "ib = Expression(\"near(x[0],XMIN) || near(x[1],YMIN) ? 1. : 0.\", XMIN=XMIN, YMIN=YMIN, element = Q.ufl_element())\n",
        "ob = Expression(\"near(x[0],XMAX) || near(x[1], YMAX) ? 1. : 0.\", XMAX=XMAX, YMAX=YMAX, element = Q.ufl_element()) \n",
        "wb = Expression(\"x[0] > XMIN + DOLFIN_EPS && x[0] < XMAX - DOLFIN_EPS && x[1] > YMIN + DOLFIN_EPS && x[1] < YMAX - DOLFIN_EPS? 1. : 0.\", XMIN=XMIN, XMAX=XMAX, YMIN=YMIN,YMAX=YMAX, element = Q.ufl_element())"
      ],
      "execution_count": 0,
      "outputs": []
    },
    {
      "cell_type": "markdown",
      "metadata": {
        "id": "SsQLT38gVbn_",
        "colab_type": "text"
      },
      "source": [
        "# **Results**"
      ]
    },
    {
      "cell_type": "markdown",
      "metadata": {
        "id": "y0EnzPyU46PX",
        "colab_type": "text"
      },
      "source": [
        "**Define and solve variational problem for velocity field**\n",
        "\n",
        "\n",
        "\n"
      ]
    },
    {
      "cell_type": "code",
      "metadata": {
        "id": "W-bCOI6LuxFi",
        "colab_type": "code",
        "colab": {
          "base_uri": "https://localhost:8080/",
          "height": 85
        },
        "outputId": "6b6b28bb-97a6-4873-dea4-fe88b4afcc9f"
      },
      "source": [
        "h = CellDiameter(mesh)\n",
        "C = 1.0e3\n",
        "gamma = C/h\n",
        "\n",
        "n = FacetNormal(mesh)\n",
        "f = Expression((\"0.0\",\"0.0\"), element = V.ufl_element())\n",
        "\n",
        "# Define variational problem on residual form: r(u,p;v,q) = 0\n",
        "residual = ( - p*div(v)*dx + inner(grad(u), grad(v))*dx + div(u)*q*dx + \n",
        "            gamma*(ib*inner(u - uin, v) + wb*inner(dot(u,n), dot(v,n)))*ds - inner(f, v)*dx )\n",
        "\n",
        "# Solve algebraic system \n",
        "solve(residual == 0, w) "
      ],
      "execution_count": 7,
      "outputs": [
        {
          "output_type": "stream",
          "text": [
            "Calling FFC just-in-time (JIT) compiler, this may take some time.\n",
            "Calling FFC just-in-time (JIT) compiler, this may take some time.\n",
            "Calling FFC just-in-time (JIT) compiler, this may take some time.\n",
            "Calling FFC just-in-time (JIT) compiler, this may take some time.\n"
          ],
          "name": "stdout"
        }
      ]
    },
    {
      "cell_type": "markdown",
      "metadata": {
        "id": "nl9EBgZU6tMZ",
        "colab_type": "text"
      },
      "source": [
        "**Visualize solution and export files**"
      ]
    },
    {
      "cell_type": "code",
      "metadata": {
        "id": "JUfvsjZPvBc0",
        "colab_type": "code",
        "outputId": "89e13bc9-e2ed-4897-a68b-b04ce8d0084d",
        "colab": {
          "base_uri": "https://localhost:8080/",
          "height": 817
        }
      },
      "source": [
        "!rm results/*\n",
        "\n",
        "# Open files to export solution to Paraview\n",
        "file_u = File(\"results/u.pvd\")\n",
        "file_p = File(\"results/p.pvd\")\n",
        "\n",
        "u1 = project(u, V)\n",
        "p1 = project(p, Q)\n",
        "\n",
        "# Save solution to file\n",
        "file_u << u1\n",
        "file_p << p1\n",
        "\n",
        "# Plot solution\n",
        "plt.figure()\n",
        "plot(u1, title=\"Velocity\")\n",
        "\n",
        "plt.figure()\n",
        "plot(p1, title=\"Pressure\")\n",
        "        \n",
        "plt.show()\n",
        "\n",
        "# Export files\n",
        "!tar -czvf circle_3.tar.gz results\n",
        "files.download('circle_3.tar.gz')"
      ],
      "execution_count": 8,
      "outputs": [
        {
          "output_type": "stream",
          "text": [
            "rm: cannot remove 'results/*': No such file or directory\n",
            "Calling FFC just-in-time (JIT) compiler, this may take some time.\n",
            "Calling FFC just-in-time (JIT) compiler, this may take some time.\n",
            "Calling FFC just-in-time (JIT) compiler, this may take some time.\n",
            "Calling FFC just-in-time (JIT) compiler, this may take some time.\n",
            "Calling FFC just-in-time (JIT) compiler, this may take some time.\n",
            "Calling FFC just-in-time (JIT) compiler, this may take some time.\n",
            "Calling FFC just-in-time (JIT) compiler, this may take some time.\n",
            "Calling FFC just-in-time (JIT) compiler, this may take some time.\n",
            "Calling FFC just-in-time (JIT) compiler, this may take some time.\n",
            "Calling FFC just-in-time (JIT) compiler, this may take some time.\n"
          ],
          "name": "stdout"
        },
        {
          "output_type": "display_data",
          "data": {
            "image/png": "[encoded data removed]",
            "text/plain": [
              "<Figure size 432x288 with 1 Axes>"
            ]
          },
          "metadata": {
            "tags": [],
            "needs_background": "light"
          }
        },
        {
          "output_type": "display_data",
          "data": {
            "image/png": "[encoded data removed]",
            "text/plain": [
              "<Figure size 432x288 with 1 Axes>"
            ]
          },
          "metadata": {
            "tags": [],
            "needs_background": "light"
          }
        },
        {
          "output_type": "stream",
          "text": [
            "results/\n",
            "results/p.pvd\n",
            "results/p000000.vtu\n",
            "results/u.pvd\n",
            "results/u000000.vtu\n"
          ],
          "name": "stdout"
        }
      ]
    },
    {
      "cell_type": "markdown",
      "metadata": {
        "id": "JNAHQTEooEk6",
        "colab_type": "text"
      },
      "source": [
        "**Time stepping for pollution concentration**"
      ]
    },
    {
      "cell_type": "code",
      "metadata": {
        "id": "lfmfkVldUu8j",
        "colab_type": "code",
        "colab": {
          "base_uri": "https://localhost:8080/",
          "height": 298
        },
        "outputId": "61cf9727-9b14-44e9-d71b-2be0dfc322eb"
      },
      "source": [
        "# Define function space for system of concentrations\n",
        "element = FiniteElement(\"P\", triangle, 1)\n",
        "Vc = FunctionSpace(mesh, element)\n",
        "\n",
        "vc = TestFunction(Vc) #test function\n",
        "fc = Constant(0.1)    #source\n",
        "dt = 0.5*mesh.hmin()  #time step\n",
        "k = Constant(dt)\n",
        "c = Function(Vc)       #concentration\n",
        "c_n = Function(Vc)     #concentration previous timestep\n",
        "d = 0.5*mesh.hmin()\n",
        "\n",
        "#variational problem:\n",
        "F = inner((c-c_n)/dt,vc)*dx + inner(dot(u,grad(c)),vc)*dx \\\n",
        "+ d*dot(u,grad(c))*dot(u,grad(vc))*dx - fc*vc*dx\n",
        "\n",
        "#time stepping\n",
        "file_c = File(\"results/c.pvd\")\n",
        "t=0\n",
        "num_steps = int(5/dt)\n",
        "for n in range(5):\n",
        "    # print(n+\"\\n\")\n",
        "    # Update current time\n",
        "    t += dt\n",
        "    # Solve variational problem for time step\n",
        "    solve(F == 0, c)\n",
        "    # Save solution to file (VTK)\n",
        "    file_c << (c, t)\n",
        "    # Update previous solution\n",
        "    c_n.assign(c)\n",
        "\n",
        "# Plot solution\n",
        "c1 = project(c, Vc)\n",
        "plt.figure()\n",
        "plot(c1, title=\"Concentration\")\n",
        "plt.show()\n"
      ],
      "execution_count": 30,
      "outputs": [
        {
          "output_type": "stream",
          "text": [
            "Calling FFC just-in-time (JIT) compiler, this may take some time.\n"
          ],
          "name": "stdout"
        },
        {
          "output_type": "display_data",
          "data": {
            "image/png": "[encoded data removed]",
            "text/plain": [
              "<Figure size 432x288 with 1 Axes>"
            ]
          },
          "metadata": {
            "tags": [],
            "needs_background": "light"
          }
        }
      ]
    },
    {
      "cell_type": "markdown",
      "metadata": {
        "id": "_4GLBv0zWr7m",
        "colab_type": "text"
      },
      "source": [
        "# **Discussion**"
      ]
    },
    {
      "cell_type": "markdown",
      "metadata": {
        "id": "6bcsDSoRXHZe",
        "colab_type": "text"
      },
      "source": [
        "A Taylor-Hood mixed finite element method was implemented in FEniCS to solve the Stokes equations in 2D. The method was tested for the model problem of flow past a number of circular obstacles, and the solution behaved as expected.  "
      ]
    }
  ]
}